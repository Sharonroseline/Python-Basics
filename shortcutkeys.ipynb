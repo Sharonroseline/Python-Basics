{
 "cells": [
  {
   "cell_type": "code",
   "execution_count": 1,
   "id": "7d8c1c06",
   "metadata": {},
   "outputs": [
    {
     "name": "stdout",
     "output_type": "stream",
     "text": [
      "Hello World\n"
     ]
    }
   ],
   "source": [
    "print(\"Hello World\")"
   ]
  },
  {
   "cell_type": "code",
   "execution_count": 3,
   "id": "54f6a6c0",
   "metadata": {},
   "outputs": [
    {
     "name": "stdout",
     "output_type": "stream",
     "text": [
      "a cell above\n"
     ]
    }
   ],
   "source": [
    "print(\"a cell above\")"
   ]
  },
  {
   "cell_type": "markdown",
   "id": "0638072f",
   "metadata": {},
   "source": [
    "# shortcut keys:"
   ]
  },
  {
   "cell_type": "markdown",
   "id": "8738df96",
   "metadata": {},
   "source": [
    "#### del-DD or X\n",
    "#### insert cell above-A\n",
    "#### insert cell below-B\n",
    "#### markdown-M+shift+enter\n",
    "#### run-shift+enter\n",
    "#### run selected cells-Ctrl+Enter\n",
    "#### run the current cell, insert below-Alt+Enter \n",
    "#### save and checkpoint-Ctrl+S \n",
    "### While in command mode:\n",
    "#### take you into edit mode-Enter \n",
    "#### show all shortcuts-H\n",
    "#### select cell above-Up\n",
    "#### select cell below-Down\n",
    "#### extend selected cells above-Shift+Up\n",
    "#### extend selected cells below-Shift+Down\n",
    "#### copy selected cells-C\n",
    "#### paste cells below-V\n",
    "#### paste cells above-Shift+V\n",
    "#### undo cell deletion-Z\n",
    "#### Save and Checkpoint-S\n",
    "#### change the cell type to Code-Y \n",
    "#### open the command palette-P"
   ]
  },
  {
   "cell_type": "markdown",
   "id": "700a0b14",
   "metadata": {},
   "source": [
    "### While in edit mode \n",
    "#### Esc take you into command mode\n",
    "#### Tab code completion or indent\n",
    "#### Shift + Tab tooltip\n",
    "#### Ctrl + ] indent\n",
    "#### Ctrl + [ dedent\n",
    "#### Ctrl + A select all\n",
    "#### Ctrl + Z undo\n",
    "#### Ctrl + Shift + Z or Ctrl + Y redo\n",
    "#### Ctrl + Home go to cell start\n",
    "#### Ctrl + End go to cell end\n",
    "#### Ctrl + Left go one word left\n",
    "#### Ctrl + Right go one word right\n",
    "#### Ctrl + Shift + P open the command palette\n",
    "#### Down move cursor down\n",
    "#### Up move cursor up"
   ]
  }
 ],
 "metadata": {
  "kernelspec": {
   "display_name": "Python 3",
   "language": "python",
   "name": "python3"
  },
  "language_info": {
   "codemirror_mode": {
    "name": "ipython",
    "version": 3
   },
   "file_extension": ".py",
   "mimetype": "text/x-python",
   "name": "python",
   "nbconvert_exporter": "python",
   "pygments_lexer": "ipython3",
   "version": "3.8.8"
  }
 },
 "nbformat": 4,
 "nbformat_minor": 5
}
