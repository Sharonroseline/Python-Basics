{
 "cells": [
  {
   "cell_type": "markdown",
   "id": "6dd4e8ed",
   "metadata": {},
   "source": [
    "#### function is a block of reusable code that runs when called."
   ]
  },
  {
   "cell_type": "code",
   "execution_count": 1,
   "id": "65ca50f7",
   "metadata": {},
   "outputs": [
    {
     "name": "stdout",
     "output_type": "stream",
     "text": [
      "hello world\n"
     ]
    }
   ],
   "source": [
    "print(\"hello world\")"
   ]
  },
  {
   "cell_type": "code",
   "execution_count": 2,
   "id": "d16c510e",
   "metadata": {},
   "outputs": [
    {
     "name": "stdout",
     "output_type": "stream",
     "text": [
      "there exists a white space after this sentence\n"
     ]
    }
   ],
   "source": [
    "print(\"there exists a white space after this sentence\")"
   ]
  },
  {
   "cell_type": "code",
   "execution_count": 3,
   "id": "24b3bde1",
   "metadata": {},
   "outputs": [
    {
     "name": "stdout",
     "output_type": "stream",
     "text": [
      "\n",
      "\n"
     ]
    }
   ],
   "source": [
    "print(\"\\n\")"
   ]
  },
  {
   "cell_type": "code",
   "execution_count": 4,
   "id": "d5e9e9d3",
   "metadata": {},
   "outputs": [
    {
     "name": "stdout",
     "output_type": "stream",
     "text": [
      "there exists a white space after this sentence\n"
     ]
    }
   ],
   "source": [
    "print(\"there exists a white space after this sentence\")"
   ]
  },
  {
   "cell_type": "code",
   "execution_count": 5,
   "id": "3e3251d4",
   "metadata": {},
   "outputs": [
    {
     "name": "stdout",
     "output_type": "stream",
     "text": [
      "7.8\n"
     ]
    }
   ],
   "source": [
    "print(7.8)"
   ]
  },
  {
   "cell_type": "code",
   "execution_count": 6,
   "id": "e9932688",
   "metadata": {},
   "outputs": [
    {
     "name": "stdout",
     "output_type": "stream",
     "text": [
      "I am curious to learn data science\n"
     ]
    }
   ],
   "source": [
    "print(\"I am curious to learn data science\")"
   ]
  },
  {
   "cell_type": "code",
   "execution_count": 7,
   "id": "bd92d770",
   "metadata": {},
   "outputs": [
    {
     "name": "stdout",
     "output_type": "stream",
     "text": [
      "Hello,Mr.Thomas\n"
     ]
    }
   ],
   "source": [
    "print(\"Hello\",\"Mr.Thomas\",sep=\",\")"
   ]
  },
  {
   "cell_type": "code",
   "execution_count": 8,
   "id": "1e90094b",
   "metadata": {},
   "outputs": [
    {
     "ename": "TypeError",
     "evalue": "'sept' is an invalid keyword argument for print()",
     "output_type": "error",
     "traceback": [
      "\u001b[1;31m---------------------------------------------------------------------------\u001b[0m",
      "\u001b[1;31mTypeError\u001b[0m                                 Traceback (most recent call last)",
      "\u001b[1;32m<ipython-input-8-de5fa6fd809d>\u001b[0m in \u001b[0;36m<module>\u001b[1;34m\u001b[0m\n\u001b[1;32m----> 1\u001b[1;33m \u001b[0mprint\u001b[0m\u001b[1;33m(\u001b[0m\u001b[1;34m\"I am curious to learn data science\"\u001b[0m\u001b[1;33m,\u001b[0m\u001b[0msept\u001b[0m\u001b[1;33m=\u001b[0m\u001b[1;34m\",\"\u001b[0m\u001b[1;33m)\u001b[0m\u001b[1;33m\u001b[0m\u001b[1;33m\u001b[0m\u001b[0m\n\u001b[0m",
      "\u001b[1;31mTypeError\u001b[0m: 'sept' is an invalid keyword argument for print()"
     ]
    }
   ],
   "source": [
    "print(\"I am curious to learn data science\",sept=\",\")"
   ]
  },
  {
   "cell_type": "code",
   "execution_count": 9,
   "id": "26c8f0c6",
   "metadata": {},
   "outputs": [
    {
     "name": "stdout",
     "output_type": "stream",
     "text": [
      "I am curious to learn data science\n"
     ]
    }
   ],
   "source": [
    "print(\"I am curious to learn data science\",sep=\",\")"
   ]
  },
  {
   "cell_type": "code",
   "execution_count": 10,
   "id": "44e844dd",
   "metadata": {},
   "outputs": [
    {
     "name": "stdout",
     "output_type": "stream",
     "text": [
      "there exists a white space after this sentence\n",
      "\n",
      "\n",
      "there exists a white space after this sentence\n"
     ]
    }
   ],
   "source": [
    "print(\"there exists a white space after this sentence\")\n",
    "print(\"\\n\")\n",
    "print(\"there exists a white space after this sentence\")"
   ]
  },
  {
   "cell_type": "code",
   "execution_count": 11,
   "id": "2e014fd9",
   "metadata": {},
   "outputs": [
    {
     "name": "stdout",
     "output_type": "stream",
     "text": [
      "there exists a white space after this sentence\n",
      "\t\n",
      "there exists a white space after this sentence\n"
     ]
    }
   ],
   "source": [
    "print(\"there exists a white space after this sentence\")\n",
    "print(\"\\t\")\n",
    "print(\"there exists a white space after this sentence\")"
   ]
  },
  {
   "cell_type": "code",
   "execution_count": 12,
   "id": "3753e08b",
   "metadata": {},
   "outputs": [
    {
     "ename": "SyntaxError",
     "evalue": "invalid syntax (<ipython-input-12-fa81efba8be1>, line 1)",
     "output_type": "error",
     "traceback": [
      "\u001b[1;36m  File \u001b[1;32m\"<ipython-input-12-fa81efba8be1>\"\u001b[1;36m, line \u001b[1;32m1\u001b[0m\n\u001b[1;33m    print(\"Hi,This is Aakash\"s car\")\u001b[0m\n\u001b[1;37m                             ^\u001b[0m\n\u001b[1;31mSyntaxError\u001b[0m\u001b[1;31m:\u001b[0m invalid syntax\n"
     ]
    }
   ],
   "source": [
    "print(\"Hi,This is Aakash\"s car\")"
   ]
  },
  {
   "cell_type": "code",
   "execution_count": 13,
   "id": "ef8682d1",
   "metadata": {},
   "outputs": [
    {
     "ename": "SyntaxError",
     "evalue": "invalid syntax (<ipython-input-13-f1c02568d8a1>, line 1)",
     "output_type": "error",
     "traceback": [
      "\u001b[1;36m  File \u001b[1;32m\"<ipython-input-13-f1c02568d8a1>\"\u001b[1;36m, line \u001b[1;32m1\u001b[0m\n\u001b[1;33m    print(\"Hi\"+\",\"This is Aakash\"s+\"car\")\u001b[0m\n\u001b[1;37m                  ^\u001b[0m\n\u001b[1;31mSyntaxError\u001b[0m\u001b[1;31m:\u001b[0m invalid syntax\n"
     ]
    }
   ],
   "source": [
    "print(\"Hi\"+\",\"This is Aakash's\"+\"car\")"
   ]
  },
  {
   "cell_type": "code",
   "execution_count": 14,
   "id": "23d569ce",
   "metadata": {},
   "outputs": [
    {
     "ename": "SyntaxError",
     "evalue": "invalid syntax (<ipython-input-14-f93ab2a521a5>, line 1)",
     "output_type": "error",
     "traceback": [
      "\u001b[1;36m  File \u001b[1;32m\"<ipython-input-14-f93ab2a521a5>\"\u001b[1;36m, line \u001b[1;32m1\u001b[0m\n\u001b[1;33m    print(\"Hi\"+\",\"This is Aakash's\"+\"car\")\u001b[0m\n\u001b[1;37m                  ^\u001b[0m\n\u001b[1;31mSyntaxError\u001b[0m\u001b[1;31m:\u001b[0m invalid syntax\n"
     ]
    }
   ],
   "source": [
    "print(\"Hi\"+\",\"This is Aakash's\"+\"car\")"
   ]
  },
  {
   "cell_type": "code",
   "execution_count": 15,
   "id": "eaed6f26",
   "metadata": {},
   "outputs": [
    {
     "name": "stdout",
     "output_type": "stream",
     "text": [
      "Hi,This is Aakash'scar\n"
     ]
    }
   ],
   "source": [
    "print(\"Hi\"+\",\"+\"This is Aakash's\"+\"car\")"
   ]
  },
  {
   "cell_type": "code",
   "execution_count": 16,
   "id": "868008d8",
   "metadata": {},
   "outputs": [
    {
     "name": "stdout",
     "output_type": "stream",
     "text": [
      "pythonis interesting\n"
     ]
    }
   ],
   "source": [
    "print(\"python\"+\"is interesting\")"
   ]
  },
  {
   "cell_type": "code",
   "execution_count": 17,
   "id": "55935a46",
   "metadata": {},
   "outputs": [
    {
     "name": "stdout",
     "output_type": "stream",
     "text": [
      "python is interesting\n"
     ]
    }
   ],
   "source": [
    "print(\"python\"+\" is interesting\")"
   ]
  },
  {
   "cell_type": "code",
   "execution_count": 18,
   "id": "c73b3b76",
   "metadata": {},
   "outputs": [
    {
     "ename": "TypeError",
     "evalue": "can only concatenate str (not \"int\") to str",
     "output_type": "error",
     "traceback": [
      "\u001b[1;31m---------------------------------------------------------------------------\u001b[0m",
      "\u001b[1;31mTypeError\u001b[0m                                 Traceback (most recent call last)",
      "\u001b[1;32m<ipython-input-18-5c8caf1c8827>\u001b[0m in \u001b[0;36m<module>\u001b[1;34m\u001b[0m\n\u001b[1;32m----> 1\u001b[1;33m \u001b[0mprint\u001b[0m\u001b[1;33m(\u001b[0m\u001b[1;34m\"python\"\u001b[0m\u001b[1;33m+\u001b[0m\u001b[1;34m\" is interesting\"\u001b[0m\u001b[1;33m+\u001b[0m \u001b[1;36m3\u001b[0m\u001b[1;33m)\u001b[0m\u001b[1;33m\u001b[0m\u001b[1;33m\u001b[0m\u001b[0m\n\u001b[0m",
      "\u001b[1;31mTypeError\u001b[0m: can only concatenate str (not \"int\") to str"
     ]
    }
   ],
   "source": [
    "print(\"python\"+\" is interesting\"+ 3)"
   ]
  },
  {
   "cell_type": "code",
   "execution_count": 19,
   "id": "fae91715",
   "metadata": {},
   "outputs": [
    {
     "name": "stdout",
     "output_type": "stream",
     "text": [
      "python is interesting3\n"
     ]
    }
   ],
   "source": [
    "print(\"python\"+\" is interesting\"+str(3))"
   ]
  },
  {
   "cell_type": "code",
   "execution_count": 20,
   "id": "04a16baf",
   "metadata": {},
   "outputs": [
    {
     "name": "stdout",
     "output_type": "stream",
     "text": [
      "python is interesting3\n"
     ]
    }
   ],
   "source": [
    "print(\"python\"+\" is interesting\"+ str(3))"
   ]
  }
 ],
 "metadata": {
  "kernelspec": {
   "display_name": "Python 3",
   "language": "python",
   "name": "python3"
  },
  "language_info": {
   "codemirror_mode": {
    "name": "ipython",
    "version": 3
   },
   "file_extension": ".py",
   "mimetype": "text/x-python",
   "name": "python",
   "nbconvert_exporter": "python",
   "pygments_lexer": "ipython3",
   "version": "3.8.8"
  }
 },
 "nbformat": 4,
 "nbformat_minor": 5
}
