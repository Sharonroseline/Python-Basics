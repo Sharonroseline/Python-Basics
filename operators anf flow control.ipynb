{
 "cells": [
  {
   "cell_type": "code",
   "execution_count": 1,
   "id": "4219b4f5",
   "metadata": {},
   "outputs": [
    {
     "name": "stdout",
     "output_type": "stream",
     "text": [
      "11\n"
     ]
    }
   ],
   "source": [
    "a=5\n",
    "b=6\n",
    "c=a+b\n",
    "print(c)"
   ]
  },
  {
   "cell_type": "code",
   "execution_count": 2,
   "id": "0a0d5be8",
   "metadata": {},
   "outputs": [
    {
     "name": "stdout",
     "output_type": "stream",
     "text": [
      "8\n"
     ]
    }
   ],
   "source": [
    "a=2\n",
    "b=6\n",
    "c=a+b\n",
    "print(c)"
   ]
  },
  {
   "cell_type": "code",
   "execution_count": 3,
   "id": "f5717ed0",
   "metadata": {},
   "outputs": [
    {
     "name": "stdout",
     "output_type": "stream",
     "text": [
      "-4\n"
     ]
    }
   ],
   "source": [
    "a=2\n",
    "b=6\n",
    "c=a-b\n",
    "print(c)"
   ]
  },
  {
   "cell_type": "code",
   "execution_count": 4,
   "id": "2ed5a715",
   "metadata": {},
   "outputs": [
    {
     "name": "stdout",
     "output_type": "stream",
     "text": [
      "12\n"
     ]
    }
   ],
   "source": [
    "a=2\n",
    "b=6\n",
    "c=a*b\n",
    "print(c)"
   ]
  },
  {
   "cell_type": "markdown",
   "id": "a6eb2a16",
   "metadata": {},
   "source": [
    "## a<b"
   ]
  },
  {
   "cell_type": "code",
   "execution_count": 5,
   "id": "abda86bb",
   "metadata": {},
   "outputs": [
    {
     "name": "stdout",
     "output_type": "stream",
     "text": [
      "2\n"
     ]
    }
   ],
   "source": [
    "a=2\n",
    "b=6\n",
    "c=a%b\n",
    "print(c)"
   ]
  },
  {
   "cell_type": "markdown",
   "id": "d43de6a2",
   "metadata": {},
   "source": [
    "## a>b"
   ]
  },
  {
   "cell_type": "code",
   "execution_count": 9,
   "id": "aeab6e3f",
   "metadata": {},
   "outputs": [
    {
     "name": "stdout",
     "output_type": "stream",
     "text": [
      "0\n"
     ]
    }
   ],
   "source": [
    "a=6\n",
    "b=2\n",
    "c=a%b\n",
    "print(c)"
   ]
  },
  {
   "cell_type": "markdown",
   "id": "6554c971",
   "metadata": {},
   "source": [
    "## a<b"
   ]
  },
  {
   "cell_type": "code",
   "execution_count": 6,
   "id": "b176bbf7",
   "metadata": {},
   "outputs": [
    {
     "name": "stdout",
     "output_type": "stream",
     "text": [
      "0\n"
     ]
    }
   ],
   "source": [
    "a=2\n",
    "b=6\n",
    "c=a//b\n",
    "print(c)"
   ]
  },
  {
   "cell_type": "markdown",
   "id": "569d65ab",
   "metadata": {},
   "source": [
    "## a>b"
   ]
  },
  {
   "cell_type": "code",
   "execution_count": 10,
   "id": "a2ee9ec8",
   "metadata": {},
   "outputs": [
    {
     "name": "stdout",
     "output_type": "stream",
     "text": [
      "3\n"
     ]
    }
   ],
   "source": [
    "a=6\n",
    "b=2\n",
    "c=a//b\n",
    "print(c)"
   ]
  },
  {
   "cell_type": "markdown",
   "id": "2bab1c22",
   "metadata": {},
   "source": [
    "## a<b"
   ]
  },
  {
   "cell_type": "code",
   "execution_count": 7,
   "id": "ffe88f56",
   "metadata": {},
   "outputs": [
    {
     "name": "stdout",
     "output_type": "stream",
     "text": [
      "0.3333333333333333\n"
     ]
    }
   ],
   "source": [
    "a=2\n",
    "b=6\n",
    "c=a/b\n",
    "print(c)"
   ]
  },
  {
   "cell_type": "markdown",
   "id": "e7613a96",
   "metadata": {},
   "source": [
    "## a>b"
   ]
  },
  {
   "cell_type": "code",
   "execution_count": 11,
   "id": "e5b6db37",
   "metadata": {},
   "outputs": [
    {
     "name": "stdout",
     "output_type": "stream",
     "text": [
      "3.0\n"
     ]
    }
   ],
   "source": [
    "a=6\n",
    "b=2\n",
    "c=a/b\n",
    "print(c)"
   ]
  },
  {
   "cell_type": "markdown",
   "id": "3c09a9e2",
   "metadata": {},
   "source": [
    "## a<b"
   ]
  },
  {
   "cell_type": "code",
   "execution_count": 8,
   "id": "1e1cc827",
   "metadata": {},
   "outputs": [
    {
     "name": "stdout",
     "output_type": "stream",
     "text": [
      "64\n"
     ]
    }
   ],
   "source": [
    "a=2\n",
    "b=6\n",
    "c=a**b\n",
    "print(c)"
   ]
  },
  {
   "cell_type": "markdown",
   "id": "f428f277",
   "metadata": {},
   "source": [
    "## a>b"
   ]
  },
  {
   "cell_type": "code",
   "execution_count": 12,
   "id": "01ea0c21",
   "metadata": {},
   "outputs": [
    {
     "name": "stdout",
     "output_type": "stream",
     "text": [
      "36\n"
     ]
    }
   ],
   "source": [
    "a=6\n",
    "b=2\n",
    "c=a**b\n",
    "print(c)"
   ]
  },
  {
   "cell_type": "markdown",
   "id": "822f7d05",
   "metadata": {},
   "source": [
    "### runtime variable assignment"
   ]
  },
  {
   "cell_type": "code",
   "execution_count": 13,
   "id": "bbecfc61",
   "metadata": {},
   "outputs": [
    {
     "name": "stdout",
     "output_type": "stream",
     "text": [
      "enter your name: Sharon\n",
      "Welcome Sharon\n"
     ]
    }
   ],
   "source": [
    "name=input(\"enter your name: \")\n",
    "print(\"Welcome\",name)\n"
   ]
  },
  {
   "cell_type": "code",
   "execution_count": 14,
   "id": "c576bbc5",
   "metadata": {},
   "outputs": [
    {
     "name": "stdout",
     "output_type": "stream",
     "text": [
      "enter price: 20\n",
      "enter quantity: 4\n"
     ]
    },
    {
     "ename": "TypeError",
     "evalue": "can't multiply sequence by non-int of type 'str'",
     "output_type": "error",
     "traceback": [
      "\u001b[1;31m---------------------------------------------------------------------------\u001b[0m",
      "\u001b[1;31mTypeError\u001b[0m                                 Traceback (most recent call last)",
      "\u001b[1;32m<ipython-input-14-52390bad12d1>\u001b[0m in \u001b[0;36m<module>\u001b[1;34m\u001b[0m\n\u001b[0;32m      1\u001b[0m \u001b[0mprice\u001b[0m\u001b[1;33m=\u001b[0m\u001b[0minput\u001b[0m\u001b[1;33m(\u001b[0m\u001b[1;34m\"enter price: \"\u001b[0m\u001b[1;33m)\u001b[0m\u001b[1;33m\u001b[0m\u001b[1;33m\u001b[0m\u001b[0m\n\u001b[0;32m      2\u001b[0m \u001b[0mquan\u001b[0m\u001b[1;33m=\u001b[0m\u001b[0minput\u001b[0m\u001b[1;33m(\u001b[0m\u001b[1;34m\"enter quantity: \"\u001b[0m\u001b[1;33m)\u001b[0m\u001b[1;33m\u001b[0m\u001b[1;33m\u001b[0m\u001b[0m\n\u001b[1;32m----> 3\u001b[1;33m \u001b[0mtotal_cost\u001b[0m\u001b[1;33m=\u001b[0m\u001b[0mprice\u001b[0m\u001b[1;33m*\u001b[0m\u001b[0mquan\u001b[0m\u001b[1;33m\u001b[0m\u001b[1;33m\u001b[0m\u001b[0m\n\u001b[0m\u001b[0;32m      4\u001b[0m \u001b[0mprint\u001b[0m\u001b[1;33m(\u001b[0m\u001b[0mtotal_cost\u001b[0m\u001b[1;33m)\u001b[0m\u001b[1;33m\u001b[0m\u001b[1;33m\u001b[0m\u001b[0m\n",
      "\u001b[1;31mTypeError\u001b[0m: can't multiply sequence by non-int of type 'str'"
     ]
    }
   ],
   "source": [
    "price=input(\"enter price: \")\n",
    "quan=input(\"enter quantity: \")\n",
    "total_cost=price*quan\n",
    "print(total_cost)"
   ]
  },
  {
   "cell_type": "code",
   "execution_count": 15,
   "id": "04c557d5",
   "metadata": {},
   "outputs": [
    {
     "name": "stdout",
     "output_type": "stream",
     "text": [
      "enter price: 20\n",
      "enter quantity: 4\n",
      "80\n"
     ]
    }
   ],
   "source": [
    "price=int(input(\"enter price: \"))\n",
    "quan=int(input(\"enter quantity: \"))\n",
    "total_cost=price*quan\n",
    "print(total_cost)"
   ]
  },
  {
   "cell_type": "markdown",
   "id": "2b6c89d1",
   "metadata": {},
   "source": [
    "### relational operators"
   ]
  },
  {
   "cell_type": "code",
   "execution_count": 16,
   "id": "0783e0dd",
   "metadata": {},
   "outputs": [
    {
     "data": {
      "text/plain": [
       "False"
      ]
     },
     "execution_count": 16,
     "metadata": {},
     "output_type": "execute_result"
    }
   ],
   "source": [
    "a=25\n",
    "b=50\n",
    "a==b"
   ]
  },
  {
   "cell_type": "code",
   "execution_count": 17,
   "id": "9df72880",
   "metadata": {},
   "outputs": [],
   "source": [
    "a=25\n",
    "b=50\n"
   ]
  },
  {
   "cell_type": "code",
   "execution_count": 18,
   "id": "569b3e55",
   "metadata": {},
   "outputs": [
    {
     "data": {
      "text/plain": [
       "False"
      ]
     },
     "execution_count": 18,
     "metadata": {},
     "output_type": "execute_result"
    }
   ],
   "source": [
    "a==b"
   ]
  },
  {
   "cell_type": "code",
   "execution_count": 19,
   "id": "f106dc01",
   "metadata": {},
   "outputs": [
    {
     "data": {
      "text/plain": [
       "False"
      ]
     },
     "execution_count": 19,
     "metadata": {},
     "output_type": "execute_result"
    }
   ],
   "source": [
    "a>b"
   ]
  },
  {
   "cell_type": "code",
   "execution_count": 20,
   "id": "1bb4f6b6",
   "metadata": {},
   "outputs": [
    {
     "data": {
      "text/plain": [
       "True"
      ]
     },
     "execution_count": 20,
     "metadata": {},
     "output_type": "execute_result"
    }
   ],
   "source": [
    "a<b\n"
   ]
  },
  {
   "cell_type": "code",
   "execution_count": 21,
   "id": "dec05292",
   "metadata": {},
   "outputs": [
    {
     "data": {
      "text/plain": [
       "True"
      ]
     },
     "execution_count": 21,
     "metadata": {},
     "output_type": "execute_result"
    }
   ],
   "source": [
    "a<=b"
   ]
  },
  {
   "cell_type": "code",
   "execution_count": 22,
   "id": "d2ccb9e8",
   "metadata": {},
   "outputs": [
    {
     "data": {
      "text/plain": [
       "False"
      ]
     },
     "execution_count": 22,
     "metadata": {},
     "output_type": "execute_result"
    }
   ],
   "source": [
    "a>=b"
   ]
  },
  {
   "cell_type": "code",
   "execution_count": 23,
   "id": "8d2fbd43",
   "metadata": {},
   "outputs": [
    {
     "data": {
      "text/plain": [
       "True"
      ]
     },
     "execution_count": 23,
     "metadata": {},
     "output_type": "execute_result"
    }
   ],
   "source": [
    "a!=b"
   ]
  },
  {
   "cell_type": "markdown",
   "id": "db3818f6",
   "metadata": {},
   "source": [
    "### logical operators"
   ]
  },
  {
   "cell_type": "code",
   "execution_count": 24,
   "id": "6a9781b8",
   "metadata": {},
   "outputs": [],
   "source": [
    "x=10"
   ]
  },
  {
   "cell_type": "code",
   "execution_count": 25,
   "id": "2684c9a3",
   "metadata": {},
   "outputs": [
    {
     "data": {
      "text/plain": [
       "True"
      ]
     },
     "execution_count": 25,
     "metadata": {},
     "output_type": "execute_result"
    }
   ],
   "source": [
    "x>2 and x<14"
   ]
  },
  {
   "cell_type": "code",
   "execution_count": 26,
   "id": "002b94ce",
   "metadata": {},
   "outputs": [
    {
     "data": {
      "text/plain": [
       "True"
      ]
     },
     "execution_count": 26,
     "metadata": {},
     "output_type": "execute_result"
    }
   ],
   "source": [
    "x>2 or x<14"
   ]
  },
  {
   "cell_type": "code",
   "execution_count": 27,
   "id": "1a367a2a",
   "metadata": {},
   "outputs": [
    {
     "data": {
      "text/plain": [
       "False"
      ]
     },
     "execution_count": 27,
     "metadata": {},
     "output_type": "execute_result"
    }
   ],
   "source": [
    "not(x)"
   ]
  },
  {
   "cell_type": "code",
   "execution_count": 28,
   "id": "f2f880aa",
   "metadata": {},
   "outputs": [
    {
     "data": {
      "text/plain": [
       "False"
      ]
     },
     "execution_count": 28,
     "metadata": {},
     "output_type": "execute_result"
    }
   ],
   "source": [
    "not(x<15 and x>2)"
   ]
  },
  {
   "cell_type": "code",
   "execution_count": 29,
   "id": "f2f1faa1",
   "metadata": {},
   "outputs": [
    {
     "data": {
      "text/plain": [
       "False"
      ]
     },
     "execution_count": 29,
     "metadata": {},
     "output_type": "execute_result"
    }
   ],
   "source": [
    "not(x<15 or x>2)"
   ]
  },
  {
   "cell_type": "markdown",
   "id": "1957e891",
   "metadata": {},
   "source": [
    "### membership operators"
   ]
  },
  {
   "cell_type": "code",
   "execution_count": 30,
   "id": "49998d4e",
   "metadata": {},
   "outputs": [
    {
     "name": "stdout",
     "output_type": "stream",
     "text": [
      "True\n"
     ]
    }
   ],
   "source": [
    "name=\"Sharon\"\n",
    "print(\"a\" in name)"
   ]
  },
  {
   "cell_type": "code",
   "execution_count": 31,
   "id": "fbedf699",
   "metadata": {},
   "outputs": [],
   "source": [
    "name=\"Sharon\"\n"
   ]
  },
  {
   "cell_type": "code",
   "execution_count": 32,
   "id": "7592a1b8",
   "metadata": {},
   "outputs": [
    {
     "name": "stdout",
     "output_type": "stream",
     "text": [
      "True\n"
     ]
    }
   ],
   "source": [
    "print(\"o\" in name)"
   ]
  },
  {
   "cell_type": "code",
   "execution_count": 33,
   "id": "49e5185a",
   "metadata": {},
   "outputs": [
    {
     "name": "stdout",
     "output_type": "stream",
     "text": [
      "False\n"
     ]
    }
   ],
   "source": [
    "print(\"e\" in name)"
   ]
  },
  {
   "cell_type": "code",
   "execution_count": 34,
   "id": "43f970ae",
   "metadata": {},
   "outputs": [
    {
     "name": "stdout",
     "output_type": "stream",
     "text": [
      "True\n"
     ]
    }
   ],
   "source": [
    "print(\"r\" in name)"
   ]
  },
  {
   "cell_type": "code",
   "execution_count": 35,
   "id": "12974161",
   "metadata": {},
   "outputs": [
    {
     "name": "stdout",
     "output_type": "stream",
     "text": [
      "True\n"
     ]
    }
   ],
   "source": [
    "print(\"n\" in name)"
   ]
  },
  {
   "cell_type": "code",
   "execution_count": 36,
   "id": "1add837d",
   "metadata": {},
   "outputs": [
    {
     "name": "stdout",
     "output_type": "stream",
     "text": [
      "False\n"
     ]
    }
   ],
   "source": [
    "print(\"s\" in name)"
   ]
  },
  {
   "cell_type": "code",
   "execution_count": 37,
   "id": "154a64ef",
   "metadata": {},
   "outputs": [
    {
     "name": "stdout",
     "output_type": "stream",
     "text": [
      "True\n"
     ]
    }
   ],
   "source": [
    "print(\"S\" in name)"
   ]
  },
  {
   "cell_type": "code",
   "execution_count": 38,
   "id": "ac62fdaf",
   "metadata": {},
   "outputs": [
    {
     "name": "stdout",
     "output_type": "stream",
     "text": [
      "False\n"
     ]
    }
   ],
   "source": [
    "print(\"S\" not in name)"
   ]
  },
  {
   "cell_type": "code",
   "execution_count": 39,
   "id": "70d892c0",
   "metadata": {},
   "outputs": [
    {
     "name": "stdout",
     "output_type": "stream",
     "text": [
      "False\n"
     ]
    }
   ],
   "source": [
    "print(\"r\" not in name)"
   ]
  },
  {
   "cell_type": "code",
   "execution_count": 40,
   "id": "22af2eda",
   "metadata": {},
   "outputs": [
    {
     "name": "stdout",
     "output_type": "stream",
     "text": [
      "True\n"
     ]
    }
   ],
   "source": [
    "print(\"l\" not in name)"
   ]
  },
  {
   "cell_type": "markdown",
   "id": "60031a58",
   "metadata": {},
   "source": [
    "### bitwise operator"
   ]
  },
  {
   "cell_type": "code",
   "execution_count": 41,
   "id": "0f87ec12",
   "metadata": {},
   "outputs": [],
   "source": [
    "n=10"
   ]
  },
  {
   "cell_type": "code",
   "execution_count": 42,
   "id": "6a7581d3",
   "metadata": {},
   "outputs": [
    {
     "data": {
      "text/plain": [
       "False"
      ]
     },
     "execution_count": 42,
     "metadata": {},
     "output_type": "execute_result"
    }
   ],
   "source": [
    "(n%2==0)&(n%3==0)"
   ]
  },
  {
   "cell_type": "code",
   "execution_count": 43,
   "id": "f0f3184d",
   "metadata": {},
   "outputs": [
    {
     "data": {
      "text/plain": [
       "True"
      ]
     },
     "execution_count": 43,
     "metadata": {},
     "output_type": "execute_result"
    }
   ],
   "source": [
    "(n%2==0)|(n%3==0)"
   ]
  },
  {
   "cell_type": "markdown",
   "id": "c1ffd4a8",
   "metadata": {},
   "source": [
    "### assignment operators"
   ]
  },
  {
   "cell_type": "code",
   "execution_count": 44,
   "id": "f2a55ec0",
   "metadata": {},
   "outputs": [],
   "source": [
    "a=2\n",
    "b=3"
   ]
  },
  {
   "cell_type": "code",
   "execution_count": 46,
   "id": "aa371419",
   "metadata": {},
   "outputs": [
    {
     "data": {
      "text/plain": [
       "6"
      ]
     },
     "execution_count": 46,
     "metadata": {},
     "output_type": "execute_result"
    }
   ],
   "source": [
    "a+=b\n",
    "a"
   ]
  },
  {
   "cell_type": "code",
   "execution_count": 47,
   "id": "361089da",
   "metadata": {},
   "outputs": [
    {
     "data": {
      "text/plain": [
       "3"
      ]
     },
     "execution_count": 47,
     "metadata": {},
     "output_type": "execute_result"
    }
   ],
   "source": [
    "a-=b\n",
    "a"
   ]
  },
  {
   "cell_type": "code",
   "execution_count": 48,
   "id": "1e2d10b6",
   "metadata": {},
   "outputs": [
    {
     "data": {
      "text/plain": [
       "0"
      ]
     },
     "execution_count": 48,
     "metadata": {},
     "output_type": "execute_result"
    }
   ],
   "source": [
    "a%=b\n",
    "a"
   ]
  },
  {
   "cell_type": "code",
   "execution_count": 49,
   "id": "e7cbc0ee",
   "metadata": {},
   "outputs": [
    {
     "data": {
      "text/plain": [
       "0"
      ]
     },
     "execution_count": 49,
     "metadata": {},
     "output_type": "execute_result"
    }
   ],
   "source": [
    "a//=b\n",
    "a"
   ]
  },
  {
   "cell_type": "code",
   "execution_count": 50,
   "id": "3e398d74",
   "metadata": {},
   "outputs": [
    {
     "data": {
      "text/plain": [
       "0.0"
      ]
     },
     "execution_count": 50,
     "metadata": {},
     "output_type": "execute_result"
    }
   ],
   "source": [
    "a/=b\n",
    "a"
   ]
  },
  {
   "cell_type": "code",
   "execution_count": 51,
   "id": "a741e550",
   "metadata": {},
   "outputs": [
    {
     "data": {
      "text/plain": [
       "0.0"
      ]
     },
     "execution_count": 51,
     "metadata": {},
     "output_type": "execute_result"
    }
   ],
   "source": [
    "a**=b\n",
    "a"
   ]
  },
  {
   "cell_type": "code",
   "execution_count": 52,
   "id": "88d179f9",
   "metadata": {},
   "outputs": [
    {
     "data": {
      "text/plain": [
       "8"
      ]
     },
     "execution_count": 52,
     "metadata": {},
     "output_type": "execute_result"
    }
   ],
   "source": [
    "a=2\n",
    "b=3\n",
    "a**=b\n",
    "a"
   ]
  },
  {
   "cell_type": "code",
   "execution_count": 53,
   "id": "32a309cd",
   "metadata": {},
   "outputs": [
    {
     "data": {
      "text/plain": [
       "0.6666666666666666"
      ]
     },
     "execution_count": 53,
     "metadata": {},
     "output_type": "execute_result"
    }
   ],
   "source": [
    "a=2\n",
    "b=3\n",
    "a/=b\n",
    "a"
   ]
  },
  {
   "cell_type": "markdown",
   "id": "0c45504e",
   "metadata": {},
   "source": [
    "### python flow control"
   ]
  },
  {
   "cell_type": "code",
   "execution_count": 54,
   "id": "999f1d49",
   "metadata": {},
   "outputs": [
    {
     "ename": "SyntaxError",
     "evalue": "invalid syntax (<ipython-input-54-a012dc3a1a52>, line 2)",
     "output_type": "error",
     "traceback": [
      "\u001b[1;36m  File \u001b[1;32m\"<ipython-input-54-a012dc3a1a52>\"\u001b[1;36m, line \u001b[1;32m2\u001b[0m\n\u001b[1;33m    if(n>0)\u001b[0m\n\u001b[1;37m           ^\u001b[0m\n\u001b[1;31mSyntaxError\u001b[0m\u001b[1;31m:\u001b[0m invalid syntax\n"
     ]
    }
   ],
   "source": [
    "n=8\n",
    "if(n>0):\n",
    "    print(\"n is greater\")\n",
    "print(\"this is always printed\")\n",
    "    "
   ]
  },
  {
   "cell_type": "markdown",
   "id": "23ca1ea7",
   "metadata": {},
   "source": [
    "### if "
   ]
  },
  {
   "cell_type": "code",
   "execution_count": 58,
   "id": "78ba1b51",
   "metadata": {},
   "outputs": [
    {
     "name": "stdout",
     "output_type": "stream",
     "text": [
      "8  is greater than zero\n",
      "this is always printed\n"
     ]
    }
   ],
   "source": [
    "n=8\n",
    "if(n>0):\n",
    "    print(n,\" is greater than zero\")\n",
    "print(\"this is always printed\")"
   ]
  },
  {
   "cell_type": "code",
   "execution_count": 56,
   "id": "4437e8a9",
   "metadata": {},
   "outputs": [
    {
     "ename": "SyntaxError",
     "evalue": "invalid syntax (<ipython-input-56-fdd24c5f36b9>, line 4)",
     "output_type": "error",
     "traceback": [
      "\u001b[1;36m  File \u001b[1;32m\"<ipython-input-56-fdd24c5f36b9>\"\u001b[1;36m, line \u001b[1;32m4\u001b[0m\n\u001b[1;33m    else\u001b[0m\n\u001b[1;37m        ^\u001b[0m\n\u001b[1;31mSyntaxError\u001b[0m\u001b[1;31m:\u001b[0m invalid syntax\n"
     ]
    }
   ],
   "source": [
    "n=8\n",
    "if(n>0):\n",
    "    print(n,\" is greater than zero\")\n",
    "else\n",
    "    print(\"n is lesser than zero\")\n",
    "print(\"this is always printed\")"
   ]
  },
  {
   "cell_type": "markdown",
   "id": "bf11b2a4",
   "metadata": {},
   "source": [
    "### if else"
   ]
  },
  {
   "cell_type": "code",
   "execution_count": 59,
   "id": "bbcc4030",
   "metadata": {},
   "outputs": [
    {
     "name": "stdout",
     "output_type": "stream",
     "text": [
      "8  is greater than zero\n",
      "this is always printed\n"
     ]
    }
   ],
   "source": [
    "n=8\n",
    "if(n>0):\n",
    "    print(n,\" is greater than zero\")\n",
    "else:\n",
    "    print(n, \" is lesser than zero\")\n",
    "print(\"this is always printed\")"
   ]
  },
  {
   "cell_type": "code",
   "execution_count": 60,
   "id": "2c2d4643",
   "metadata": {},
   "outputs": [
    {
     "ename": "SyntaxError",
     "evalue": "invalid syntax (<ipython-input-60-cd5e4c605396>, line 4)",
     "output_type": "error",
     "traceback": [
      "\u001b[1;36m  File \u001b[1;32m\"<ipython-input-60-cd5e4c605396>\"\u001b[1;36m, line \u001b[1;32m4\u001b[0m\n\u001b[1;33m    elif(10<age<20)\u001b[0m\n\u001b[1;37m                   ^\u001b[0m\n\u001b[1;31mSyntaxError\u001b[0m\u001b[1;31m:\u001b[0m invalid syntax\n"
     ]
    }
   ],
   "source": [
    "age=int(input(\"enter age: \"))\n",
    "if(0<age<10):\n",
    "    print(age,\" -adolescent\")\n",
    "elif(10<age<20):\n",
    "    print(age, \" -teenage\")\n",
    "else:\n",
    "    print(age, \" is greater than 20\")\n"
   ]
  },
  {
   "cell_type": "markdown",
   "id": "e30c1b91",
   "metadata": {},
   "source": [
    "### if elif else"
   ]
  },
  {
   "cell_type": "code",
   "execution_count": 61,
   "id": "696d4372",
   "metadata": {},
   "outputs": [
    {
     "name": "stdout",
     "output_type": "stream",
     "text": [
      "enter age: 19\n",
      "19  -teenage\n"
     ]
    }
   ],
   "source": [
    "age=int(input(\"enter age: \"))\n",
    "if(0<age<10):\n",
    "    print(age,\" -adolescent\")\n",
    "elif(10<age<20):\n",
    "    print(age, \" -teenage\")\n",
    "else:\n",
    "    print(age, \" is greater than 20\")"
   ]
  },
  {
   "cell_type": "markdown",
   "id": "1808b025",
   "metadata": {},
   "source": [
    "### nested if-else"
   ]
  },
  {
   "cell_type": "code",
   "execution_count": 62,
   "id": "36d9edad",
   "metadata": {},
   "outputs": [
    {
     "name": "stdout",
     "output_type": "stream",
     "text": [
      "n3 is greater\n"
     ]
    }
   ],
   "source": [
    "n1=1\n",
    "n2=2\n",
    "n3=3\n",
    "if(n1>n2):\n",
    "    print(\"n1 is greater\")\n",
    "else:\n",
    "    if(n3>n2):\n",
    "        print(\"n3 is greater\")\n",
    "    else: \n",
    "        print(\"n2 is greater\")"
   ]
  },
  {
   "cell_type": "markdown",
   "id": "307c2489",
   "metadata": {},
   "source": [
    "### Loops"
   ]
  },
  {
   "cell_type": "markdown",
   "id": "be3748c2",
   "metadata": {},
   "source": [
    "#### while loops"
   ]
  },
  {
   "cell_type": "code",
   "execution_count": 69,
   "id": "463bee6b",
   "metadata": {},
   "outputs": [
    {
     "name": "stdout",
     "output_type": "stream",
     "text": [
      "1\n",
      "2\n",
      "3\n",
      "4\n",
      "5\n",
      "6\n",
      "7\n",
      "8\n",
      "9\n",
      "10\n",
      "sum is  55\n"
     ]
    }
   ],
   "source": [
    "n=10\n",
    "sum=0\n",
    "i=1\n",
    "\n",
    "while(i<=n):\n",
    "    print(i)\n",
    "    sum=sum+i\n",
    "    i=i+1\n",
    "  \n",
    "print(\"sum is \",sum)"
   ]
  },
  {
   "cell_type": "markdown",
   "id": "45b9295d",
   "metadata": {},
   "source": [
    "### addition of 1st ten odd nos using for"
   ]
  },
  {
   "cell_type": "code",
   "execution_count": 70,
   "id": "9f15fc29",
   "metadata": {},
   "outputs": [
    {
     "name": "stdout",
     "output_type": "stream",
     "text": [
      "Print sum of odd numbers till : 10\n",
      "\n",
      "Sum of odd numbers from 1 to 10 is : 25\n"
     ]
    }
   ],
   "source": [
    "num = int(input(\"Print sum of odd numbers till : \"))\n",
    "sum = 0;\n",
    "\n",
    "for i in range(1, num + 1):\n",
    "\n",
    "    if((i % 2) != 0):\n",
    "        sum += i;\n",
    "\n",
    "print(\"\\nSum of odd numbers from 1 to\", num, \"is :\", sum)"
   ]
  },
  {
   "cell_type": "markdown",
   "id": "11c04c2c",
   "metadata": {},
   "source": [
    "### break and continue"
   ]
  },
  {
   "cell_type": "markdown",
   "id": "f9bf6b7c",
   "metadata": {},
   "source": [
    "##### break"
   ]
  },
  {
   "cell_type": "code",
   "execution_count": 1,
   "id": "59e556ac",
   "metadata": {},
   "outputs": [
    {
     "name": "stdout",
     "output_type": "stream",
     "text": [
      "k\n",
      "n\n",
      "o\n",
      "w\n",
      "l\n",
      "e\n",
      "d\n",
      "g\n",
      "e\n",
      "for loop stopped executing\n"
     ]
    }
   ],
   "source": [
    "text=\"knowledgehut\"\n",
    "for letter in text:\n",
    "    if letter==\"h\":\n",
    "        break\n",
    "    print(letter)\n",
    "print(\"for loop stopped executing\")\n",
    "    "
   ]
  },
  {
   "cell_type": "markdown",
   "id": "9502038f",
   "metadata": {},
   "source": [
    "#### continue"
   ]
  },
  {
   "cell_type": "code",
   "execution_count": 2,
   "id": "cd5a861c",
   "metadata": {},
   "outputs": [
    {
     "name": "stdout",
     "output_type": "stream",
     "text": [
      "k\n",
      "n\n",
      "o\n",
      "w\n",
      "l\n",
      "e\n",
      "d\n",
      "g\n",
      "e\n",
      "loop skipped a break here\n",
      "h\n",
      "u\n",
      "t\n"
     ]
    }
   ],
   "source": [
    "text=\"knowledge hut\"\n",
    "for letter in text:\n",
    "    if letter==\" \":\n",
    "        print(\"loop skipped a break here\")\n",
    "        continue\n",
    "    print(letter)\n"
   ]
  },
  {
   "cell_type": "code",
   "execution_count": 3,
   "id": "d10eb1db",
   "metadata": {},
   "outputs": [
    {
     "name": "stdout",
     "output_type": "stream",
     "text": [
      "w\n",
      "e\n",
      "l\n",
      "for loop stopped executing\n"
     ]
    }
   ],
   "source": [
    "text=\"welcome\"\n",
    "for letter in text:\n",
    "    if letter==\"c\":\n",
    "        break\n",
    "    print(letter)\n",
    "print(\"for loop stopped executing\")"
   ]
  },
  {
   "cell_type": "code",
   "execution_count": 5,
   "id": "795fa88e",
   "metadata": {},
   "outputs": [
    {
     "name": "stdout",
     "output_type": "stream",
     "text": [
      "w\n",
      "e\n",
      "loop skipped l here\n",
      "c\n",
      "o\n",
      "m\n",
      "e\n"
     ]
    }
   ],
   "source": [
    "text=\"welcome\"\n",
    "for letter in text:\n",
    "    if letter==\"l\":\n",
    "        print(\"loop skipped l here\")\n",
    "        continue\n",
    "    print(letter)"
   ]
  },
  {
   "cell_type": "markdown",
   "id": "8b5a6fbd",
   "metadata": {},
   "source": [
    "### nested for loop"
   ]
  },
  {
   "cell_type": "code",
   "execution_count": 6,
   "id": "f0c7a256",
   "metadata": {},
   "outputs": [
    {
     "name": "stdout",
     "output_type": "stream",
     "text": [
      "enter the no. of levels: 5\n",
      "1 \n",
      "\n",
      "2 2 \n",
      "\n",
      "3 3 3 \n",
      "\n",
      "4 4 4 4 \n",
      "\n",
      "5 5 5 5 5 \n",
      "\n"
     ]
    }
   ],
   "source": [
    "levels=int(input(\"enter the no. of levels: \"))\n",
    "for level in range(1,levels+1):\n",
    "    for num in range(level):\n",
    "     print(level,end=\" \")\n",
    "    print(\"\\n\")"
   ]
  }
 ],
 "metadata": {
  "kernelspec": {
   "display_name": "Python 3",
   "language": "python",
   "name": "python3"
  },
  "language_info": {
   "codemirror_mode": {
    "name": "ipython",
    "version": 3
   },
   "file_extension": ".py",
   "mimetype": "text/x-python",
   "name": "python",
   "nbconvert_exporter": "python",
   "pygments_lexer": "ipython3",
   "version": "3.8.8"
  }
 },
 "nbformat": 4,
 "nbformat_minor": 5
}
