{
 "cells": [
  {
   "cell_type": "markdown",
   "id": "52078127",
   "metadata": {},
   "source": [
    "#### user-defined funcs are funcs defined by users"
   ]
  },
  {
   "cell_type": "code",
   "execution_count": 1,
   "id": "a9358457",
   "metadata": {},
   "outputs": [
    {
     "name": "stdout",
     "output_type": "stream",
     "text": [
      "enter base: 5\n",
      "enter height: 6\n",
      "15.0\n"
     ]
    }
   ],
   "source": [
    "def area_of_triangle(b,h):\n",
    "    return(0.5*b*h)\n",
    "b=int(input(\"enter base: \"))\n",
    "h=int(input(\"enter height: \"))\n",
    "print(area_of_triangle(b,h))"
   ]
  },
  {
   "cell_type": "code",
   "execution_count": 6,
   "id": "bca046b2",
   "metadata": {},
   "outputs": [
    {
     "name": "stdout",
     "output_type": "stream",
     "text": [
      "Enter name: Sharon\n",
      "Hello Sharon welcome!\n"
     ]
    }
   ],
   "source": [
    "def greet(name): return(\"Hello \"+name+\" welcome!\") \n",
    "name=input(\"Enter name: \") \n",
    "print(greet(name))"
   ]
  },
  {
   "cell_type": "markdown",
   "id": "be002a20",
   "metadata": {},
   "source": [
    "#### the func throws error if we don't pass the required parameter"
   ]
  },
  {
   "cell_type": "code",
   "execution_count": 7,
   "id": "55c110e0",
   "metadata": {},
   "outputs": [
    {
     "name": "stdout",
     "output_type": "stream",
     "text": [
      "Enter name: Sharon\n"
     ]
    },
    {
     "ename": "TypeError",
     "evalue": "greet() missing 1 required positional argument: 'name'",
     "output_type": "error",
     "traceback": [
      "\u001b[1;31m---------------------------------------------------------------------------\u001b[0m",
      "\u001b[1;31mTypeError\u001b[0m                                 Traceback (most recent call last)",
      "\u001b[1;32m<ipython-input-7-4735ee83a22d>\u001b[0m in \u001b[0;36m<module>\u001b[1;34m\u001b[0m\n\u001b[0;32m      1\u001b[0m \u001b[1;32mdef\u001b[0m \u001b[0mgreet\u001b[0m\u001b[1;33m(\u001b[0m\u001b[0mname\u001b[0m\u001b[1;33m)\u001b[0m\u001b[1;33m:\u001b[0m \u001b[1;32mreturn\u001b[0m\u001b[1;33m(\u001b[0m\u001b[1;34m\"Hello \"\u001b[0m\u001b[1;33m+\u001b[0m\u001b[0mname\u001b[0m\u001b[1;33m+\u001b[0m\u001b[1;34m\" welcome!\"\u001b[0m\u001b[1;33m)\u001b[0m\u001b[1;33m\u001b[0m\u001b[1;33m\u001b[0m\u001b[0m\n\u001b[0;32m      2\u001b[0m \u001b[0mname\u001b[0m\u001b[1;33m=\u001b[0m\u001b[0minput\u001b[0m\u001b[1;33m(\u001b[0m\u001b[1;34m\"Enter name: \"\u001b[0m\u001b[1;33m)\u001b[0m\u001b[1;33m\u001b[0m\u001b[1;33m\u001b[0m\u001b[0m\n\u001b[1;32m----> 3\u001b[1;33m \u001b[0mprint\u001b[0m\u001b[1;33m(\u001b[0m\u001b[0mgreet\u001b[0m\u001b[1;33m(\u001b[0m\u001b[1;33m)\u001b[0m\u001b[1;33m)\u001b[0m\u001b[1;33m\u001b[0m\u001b[1;33m\u001b[0m\u001b[0m\n\u001b[0m",
      "\u001b[1;31mTypeError\u001b[0m: greet() missing 1 required positional argument: 'name'"
     ]
    }
   ],
   "source": [
    "def greet(name): return(\"Hello \"+name+\" welcome!\") \n",
    "name=input(\"Enter name: \") \n",
    "print(greet())"
   ]
  },
  {
   "cell_type": "code",
   "execution_count": 9,
   "id": "8947ccc4",
   "metadata": {},
   "outputs": [
    {
     "name": "stdout",
     "output_type": "stream",
     "text": [
      "23\n"
     ]
    }
   ],
   "source": [
    "def addition(a,b):\n",
    "    add=a+b\n",
    "    return(add)\n",
    "c=addition(2,21)\n",
    "print(c)\n"
   ]
  },
  {
   "cell_type": "markdown",
   "id": "1407095b",
   "metadata": {},
   "source": [
    "#### here we didn't return anything in UDF.So the output is returned as none."
   ]
  },
  {
   "cell_type": "code",
   "execution_count": 10,
   "id": "8b98d14f",
   "metadata": {},
   "outputs": [
    {
     "name": "stdout",
     "output_type": "stream",
     "text": [
      "None\n"
     ]
    }
   ],
   "source": [
    "def addition(a,b):\n",
    "    add=a+b\n",
    "    return\n",
    "c=addition(2,21)\n",
    "print(c)"
   ]
  },
  {
   "cell_type": "markdown",
   "id": "b2056c2d",
   "metadata": {},
   "source": [
    "#### Required args:"
   ]
  },
  {
   "cell_type": "markdown",
   "id": "67c0ae21",
   "metadata": {},
   "source": [
    "#### passed in correct positional order"
   ]
  },
  {
   "cell_type": "code",
   "execution_count": 1,
   "id": "4bdf846b",
   "metadata": {},
   "outputs": [
    {
     "name": "stdout",
     "output_type": "stream",
     "text": [
      "first arg is:  2\n",
      "second arg is:  4\n"
     ]
    }
   ],
   "source": [
    "def re_arg(n1,n2):\n",
    "    print(\"first arg is: \",n1)\n",
    "    print(\"second arg is: \",n2)\n",
    "n1=2\n",
    "n2=4\n",
    "re_arg(n1,n2)"
   ]
  },
  {
   "cell_type": "markdown",
   "id": "e69d85fa",
   "metadata": {},
   "source": [
    "#### if req arg not passed throws error"
   ]
  },
  {
   "cell_type": "code",
   "execution_count": 3,
   "id": "001cdbd2",
   "metadata": {},
   "outputs": [
    {
     "ename": "TypeError",
     "evalue": "hello() missing 1 required positional argument: 'name'",
     "output_type": "error",
     "traceback": [
      "\u001b[1;31m---------------------------------------------------------------------------\u001b[0m",
      "\u001b[1;31mTypeError\u001b[0m                                 Traceback (most recent call last)",
      "\u001b[1;32m<ipython-input-3-c31d49dafd0c>\u001b[0m in \u001b[0;36m<module>\u001b[1;34m\u001b[0m\n\u001b[0;32m      1\u001b[0m \u001b[1;32mdef\u001b[0m \u001b[0mhello\u001b[0m\u001b[1;33m(\u001b[0m\u001b[0mname\u001b[0m\u001b[1;33m)\u001b[0m\u001b[1;33m:\u001b[0m\u001b[1;33m\u001b[0m\u001b[1;33m\u001b[0m\u001b[0m\n\u001b[0;32m      2\u001b[0m     \u001b[0mprint\u001b[0m\u001b[1;33m(\u001b[0m\u001b[1;34m\"Hello\"\u001b[0m\u001b[1;33m+\u001b[0m\u001b[0mname\u001b[0m\u001b[1;33m)\u001b[0m\u001b[1;33m\u001b[0m\u001b[1;33m\u001b[0m\u001b[0m\n\u001b[1;32m----> 3\u001b[1;33m \u001b[0mhello\u001b[0m\u001b[1;33m(\u001b[0m\u001b[1;33m)\u001b[0m\u001b[1;33m\u001b[0m\u001b[1;33m\u001b[0m\u001b[0m\n\u001b[0m",
      "\u001b[1;31mTypeError\u001b[0m: hello() missing 1 required positional argument: 'name'"
     ]
    }
   ],
   "source": [
    "def hello(name):\n",
    "    print(\"Hello\"+name)\n",
    "hello()"
   ]
  },
  {
   "cell_type": "markdown",
   "id": "6e97ecce",
   "metadata": {},
   "source": [
    "#### keyword arguments:"
   ]
  },
  {
   "cell_type": "code",
   "execution_count": 5,
   "id": "30951a20",
   "metadata": {},
   "outputs": [
    {
     "name": "stdout",
     "output_type": "stream",
     "text": [
      "Joe TL\n"
     ]
    }
   ],
   "source": [
    "def emp(name,des):\n",
    "    print(name,des)\n",
    "emp(name=\"Joe\",des=\"TL\")"
   ]
  },
  {
   "cell_type": "markdown",
   "id": "d2795a02",
   "metadata": {},
   "source": [
    "#### default arg:"
   ]
  },
  {
   "cell_type": "code",
   "execution_count": 7,
   "id": "9cc3b119",
   "metadata": {},
   "outputs": [
    {
     "name": "stdout",
     "output_type": "stream",
     "text": [
      "emp name-  Joe\n",
      "emp salary-  120000\n"
     ]
    }
   ],
   "source": [
    "def emp(name,sal=120000):\n",
    "    print(\"emp name- \",name)\n",
    "    print(\"emp salary- \",sal)\n",
    "emp(\"Joe\")"
   ]
  },
  {
   "cell_type": "markdown",
   "id": "60bc4c5b",
   "metadata": {},
   "source": [
    "#### var length arg:"
   ]
  },
  {
   "cell_type": "code",
   "execution_count": 10,
   "id": "ea7d8b62",
   "metadata": {},
   "outputs": [
    {
     "name": "stdout",
     "output_type": "stream",
     "text": [
      "6\n"
     ]
    }
   ],
   "source": [
    "def addition(*num):\n",
    "    add=0\n",
    "    for i in num:\n",
    "        add=add+i\n",
    "    print(add)\n",
    "addition(1,2,3)"
   ]
  },
  {
   "cell_type": "markdown",
   "id": "cc3c0ab9",
   "metadata": {},
   "source": [
    "#### var length  key-worded arg:"
   ]
  },
  {
   "cell_type": "code",
   "execution_count": 13,
   "id": "4810a36e",
   "metadata": {},
   "outputs": [
    {
     "name": "stdout",
     "output_type": "stream",
     "text": [
      "<class 'dict'>\n",
      "name --> Dane\n",
      "salary --> 12000\n"
     ]
    }
   ],
   "source": [
    "def emp(**details):\n",
    "    print(type(details))\n",
    "    for k,v in details.items():\n",
    "        print(k,\"-->\",v)\n",
    "emp(name=\"Dane\",salary=12000)"
   ]
  },
  {
   "cell_type": "markdown",
   "id": "369369b2",
   "metadata": {},
   "source": [
    "#### Lambda functions:"
   ]
  },
  {
   "cell_type": "code",
   "execution_count": 14,
   "id": "b9ea2ec5",
   "metadata": {},
   "outputs": [
    {
     "data": {
      "text/plain": [
       "2"
      ]
     },
     "execution_count": 14,
     "metadata": {},
     "output_type": "execute_result"
    }
   ],
   "source": [
    "greater=lambda a,b: a if(a>b) else b\n",
    "greater(1,2)"
   ]
  },
  {
   "cell_type": "markdown",
   "id": "a3952b50",
   "metadata": {},
   "source": [
    "#### map:"
   ]
  },
  {
   "cell_type": "code",
   "execution_count": 16,
   "id": "431df251",
   "metadata": {},
   "outputs": [
    {
     "data": {
      "text/plain": [
       "[1,\n",
       " 4,\n",
       " 9,\n",
       " 16,\n",
       " 25,\n",
       " 36,\n",
       " 49,\n",
       " 64,\n",
       " 81,\n",
       " 100,\n",
       " 121,\n",
       " 144,\n",
       " 169,\n",
       " 196,\n",
       " 225,\n",
       " 256,\n",
       " 289,\n",
       " 324,\n",
       " 361,\n",
       " 400]"
      ]
     },
     "execution_count": 16,
     "metadata": {},
     "output_type": "execute_result"
    }
   ],
   "source": [
    "num=list(range(1,21))\n",
    "sq=list(map(lambda x:x**2,num))\n",
    "sq"
   ]
  },
  {
   "cell_type": "markdown",
   "id": "692ed759",
   "metadata": {},
   "source": [
    "#### filter"
   ]
  },
  {
   "cell_type": "code",
   "execution_count": 17,
   "id": "f4f1550c",
   "metadata": {},
   "outputs": [
    {
     "data": {
      "text/plain": [
       "[5, 10, 15, 20]"
      ]
     },
     "execution_count": 17,
     "metadata": {},
     "output_type": "execute_result"
    }
   ],
   "source": [
    "num=list(range(1,21))\n",
    "sq=list(filter(lambda x:x%5==0,num))\n",
    "sq"
   ]
  },
  {
   "cell_type": "markdown",
   "id": "37039a83",
   "metadata": {},
   "source": [
    "#### reduce"
   ]
  },
  {
   "cell_type": "code",
   "execution_count": 18,
   "id": "f03b15c5",
   "metadata": {},
   "outputs": [
    {
     "data": {
      "text/plain": [
       "120"
      ]
     },
     "execution_count": 18,
     "metadata": {},
     "output_type": "execute_result"
    }
   ],
   "source": [
    "from functools import reduce\n",
    "num=[1,2,3,4,5]\n",
    "reduce(lambda a,b: a*b,num)"
   ]
  },
  {
   "cell_type": "code",
   "execution_count": null,
   "id": "e700e24b",
   "metadata": {},
   "outputs": [],
   "source": []
  }
 ],
 "metadata": {
  "kernelspec": {
   "display_name": "Python 3",
   "language": "python",
   "name": "python3"
  },
  "language_info": {
   "codemirror_mode": {
    "name": "ipython",
    "version": 3
   },
   "file_extension": ".py",
   "mimetype": "text/x-python",
   "name": "python",
   "nbconvert_exporter": "python",
   "pygments_lexer": "ipython3",
   "version": "3.8.8"
  }
 },
 "nbformat": 4,
 "nbformat_minor": 5
}
