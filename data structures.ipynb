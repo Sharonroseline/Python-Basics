{
 "cells": [
  {
   "cell_type": "markdown",
   "id": "ec106ebe",
   "metadata": {},
   "source": [
    "### indexing and slicing of strings"
   ]
  },
  {
   "cell_type": "code",
   "execution_count": 1,
   "id": "9c8fca2a",
   "metadata": {},
   "outputs": [],
   "source": [
    "text=\"I love python\""
   ]
  },
  {
   "cell_type": "markdown",
   "id": "be5cdb12",
   "metadata": {},
   "source": [
    "#### prints 1st letter as idex starts from 0"
   ]
  },
  {
   "cell_type": "code",
   "execution_count": 2,
   "id": "37ec4964",
   "metadata": {},
   "outputs": [
    {
     "data": {
      "text/plain": [
       "'I'"
      ]
     },
     "execution_count": 2,
     "metadata": {},
     "output_type": "execute_result"
    }
   ],
   "source": [
    "text[0]"
   ]
  },
  {
   "cell_type": "code",
   "execution_count": 3,
   "id": "ac59050f",
   "metadata": {},
   "outputs": [
    {
     "data": {
      "text/plain": [
       "'I love python'"
      ]
     },
     "execution_count": 3,
     "metadata": {},
     "output_type": "execute_result"
    }
   ],
   "source": [
    "text[:]"
   ]
  },
  {
   "cell_type": "code",
   "execution_count": 4,
   "id": "463f0346",
   "metadata": {},
   "outputs": [
    {
     "data": {
      "text/plain": [
       "'I love python'"
      ]
     },
     "execution_count": 4,
     "metadata": {},
     "output_type": "execute_result"
    }
   ],
   "source": [
    "text[:len(text)]"
   ]
  },
  {
   "cell_type": "code",
   "execution_count": 5,
   "id": "4db21cf8",
   "metadata": {},
   "outputs": [
    {
     "data": {
      "text/plain": [
       "'I love'"
      ]
     },
     "execution_count": 5,
     "metadata": {},
     "output_type": "execute_result"
    }
   ],
   "source": [
    "text[0:6]"
   ]
  },
  {
   "cell_type": "code",
   "execution_count": 6,
   "id": "3afe481d",
   "metadata": {},
   "outputs": [
    {
     "data": {
      "text/plain": [
       "'love python'"
      ]
     },
     "execution_count": 6,
     "metadata": {},
     "output_type": "execute_result"
    }
   ],
   "source": [
    "text[2:]"
   ]
  },
  {
   "cell_type": "markdown",
   "id": "c651565e",
   "metadata": {},
   "source": [
    "#### displays from index 7 to 12..13 excuded"
   ]
  },
  {
   "cell_type": "code",
   "execution_count": 7,
   "id": "f8a939f2",
   "metadata": {},
   "outputs": [
    {
     "data": {
      "text/plain": [
       "'python'"
      ]
     },
     "execution_count": 7,
     "metadata": {},
     "output_type": "execute_result"
    }
   ],
   "source": [
    "text[7:13]"
   ]
  },
  {
   "cell_type": "markdown",
   "id": "fe35afb6",
   "metadata": {},
   "source": [
    "#### displays 2nd letter to second last letter"
   ]
  },
  {
   "cell_type": "code",
   "execution_count": 8,
   "id": "9da23907",
   "metadata": {},
   "outputs": [
    {
     "data": {
      "text/plain": [
       "' love pytho'"
      ]
     },
     "execution_count": 8,
     "metadata": {},
     "output_type": "execute_result"
    }
   ],
   "source": [
    "text[1:-1]"
   ]
  },
  {
   "cell_type": "markdown",
   "id": "607c37b3",
   "metadata": {},
   "source": [
    "### reverse str using indexing"
   ]
  },
  {
   "cell_type": "code",
   "execution_count": 9,
   "id": "c6c6caf5",
   "metadata": {},
   "outputs": [
    {
     "data": {
      "text/plain": [
       "'nohtyp evol I'"
      ]
     },
     "execution_count": 9,
     "metadata": {},
     "output_type": "execute_result"
    }
   ],
   "source": [
    "text[::-1]"
   ]
  },
  {
   "cell_type": "markdown",
   "id": "8fadc65a",
   "metadata": {},
   "source": [
    "### reverse str and display the lst third letter"
   ]
  },
  {
   "cell_type": "code",
   "execution_count": 10,
   "id": "1eba1cc3",
   "metadata": {},
   "outputs": [
    {
     "data": {
      "text/plain": [
       "'l'"
      ]
     },
     "execution_count": 10,
     "metadata": {},
     "output_type": "execute_result"
    }
   ],
   "source": [
    "text[::-1][-3]"
   ]
  },
  {
   "cell_type": "markdown",
   "id": "96b2ed5c",
   "metadata": {},
   "source": [
    "### String handling"
   ]
  },
  {
   "cell_type": "markdown",
   "id": "8658830d",
   "metadata": {},
   "source": [
    "#### to replace a word"
   ]
  },
  {
   "cell_type": "code",
   "execution_count": 11,
   "id": "8a5d8818",
   "metadata": {},
   "outputs": [
    {
     "data": {
      "text/plain": [
       "'I love data analytics'"
      ]
     },
     "execution_count": 11,
     "metadata": {},
     "output_type": "execute_result"
    }
   ],
   "source": [
    "text.replace(\"python\",\"data analytics\")"
   ]
  },
  {
   "cell_type": "markdown",
   "id": "84329ba9",
   "metadata": {},
   "source": [
    "#### to change to upper nd lower case"
   ]
  },
  {
   "cell_type": "code",
   "execution_count": 12,
   "id": "94854a44",
   "metadata": {},
   "outputs": [
    {
     "data": {
      "text/plain": [
       "'I LOVE PYTHON'"
      ]
     },
     "execution_count": 12,
     "metadata": {},
     "output_type": "execute_result"
    }
   ],
   "source": [
    "text.upper()"
   ]
  },
  {
   "cell_type": "code",
   "execution_count": 13,
   "id": "4e153fe6",
   "metadata": {},
   "outputs": [
    {
     "data": {
      "text/plain": [
       "'i love python'"
      ]
     },
     "execution_count": 13,
     "metadata": {},
     "output_type": "execute_result"
    }
   ],
   "source": [
    "text.lower()"
   ]
  },
  {
   "cell_type": "markdown",
   "id": "a2a0cdb8",
   "metadata": {},
   "source": [
    "#### to make all starting letters in uppercase"
   ]
  },
  {
   "cell_type": "code",
   "execution_count": 14,
   "id": "7fdd5ae5",
   "metadata": {},
   "outputs": [
    {
     "data": {
      "text/plain": [
       "'I Love Python'"
      ]
     },
     "execution_count": 14,
     "metadata": {},
     "output_type": "execute_result"
    }
   ],
   "source": [
    "text.title()"
   ]
  },
  {
   "cell_type": "code",
   "execution_count": 15,
   "id": "5186362d",
   "metadata": {},
   "outputs": [
    {
     "ename": "SyntaxError",
     "evalue": "invalid syntax (<ipython-input-15-ed61628efee9>, line 1)",
     "output_type": "error",
     "traceback": [
      "\u001b[1;36m  File \u001b[1;32m\"<ipython-input-15-ed61628efee9>\"\u001b[1;36m, line \u001b[1;32m1\u001b[0m\n\u001b[1;33m    date=\"8\",\"3,\"2021\"\u001b[0m\n\u001b[1;37m                 ^\u001b[0m\n\u001b[1;31mSyntaxError\u001b[0m\u001b[1;31m:\u001b[0m invalid syntax\n"
     ]
    }
   ],
   "source": [
    "date=\"8\",\"3,\"2021\"\n",
    "sep=\"-\"\n",
    "sep.join(date)"
   ]
  },
  {
   "cell_type": "code",
   "execution_count": 20,
   "id": "0eac7829",
   "metadata": {},
   "outputs": [
    {
     "data": {
      "text/plain": [
       "'8-03-2020'"
      ]
     },
     "execution_count": 20,
     "metadata": {},
     "output_type": "execute_result"
    }
   ],
   "source": [
    "date=\"8\",\"03\",\"2020\"\n",
    "sep=\"-\"\n",
    "sep.join(date)"
   ]
  },
  {
   "cell_type": "code",
   "execution_count": 26,
   "id": "8939cbf1",
   "metadata": {},
   "outputs": [
    {
     "data": {
      "text/plain": [
       "'8/03/2020'"
      ]
     },
     "execution_count": 26,
     "metadata": {},
     "output_type": "execute_result"
    }
   ],
   "source": [
    "date=\"8\",\"03\",\"2020\"\n",
    "sep=\"/\"\n",
    "sep.join(date)"
   ]
  },
  {
   "cell_type": "markdown",
   "id": "974d4810",
   "metadata": {},
   "source": [
    "#### removes leading and trailing * char"
   ]
  },
  {
   "cell_type": "code",
   "execution_count": 21,
   "id": "950397c6",
   "metadata": {},
   "outputs": [],
   "source": [
    "text=\"***i*love*python***\""
   ]
  },
  {
   "cell_type": "code",
   "execution_count": 22,
   "id": "3827e4c0",
   "metadata": {},
   "outputs": [
    {
     "data": {
      "text/plain": [
       "'i*love*python'"
      ]
     },
     "execution_count": 22,
     "metadata": {},
     "output_type": "execute_result"
    }
   ],
   "source": [
    "text.strip(\"*\")"
   ]
  },
  {
   "cell_type": "markdown",
   "id": "3c1988fd",
   "metadata": {},
   "source": [
    "#### removes leadind stars"
   ]
  },
  {
   "cell_type": "code",
   "execution_count": 23,
   "id": "c8fe9be1",
   "metadata": {},
   "outputs": [
    {
     "data": {
      "text/plain": [
       "'i love python'"
      ]
     },
     "execution_count": 23,
     "metadata": {},
     "output_type": "execute_result"
    }
   ],
   "source": [
    "text=\"***i love python\"\n",
    "text.strip(\"*\")"
   ]
  },
  {
   "cell_type": "markdown",
   "id": "596a904e",
   "metadata": {},
   "source": [
    "#### removes trailing stars"
   ]
  },
  {
   "cell_type": "code",
   "execution_count": 24,
   "id": "516f7af7",
   "metadata": {},
   "outputs": [
    {
     "data": {
      "text/plain": [
       "'i love python'"
      ]
     },
     "execution_count": 24,
     "metadata": {},
     "output_type": "execute_result"
    }
   ],
   "source": [
    "text=\"i love python****\"\n",
    "text.strip(\"*\")"
   ]
  },
  {
   "cell_type": "markdown",
   "id": "104f47d9",
   "metadata": {},
   "source": [
    "### List"
   ]
  },
  {
   "cell_type": "code",
   "execution_count": 27,
   "id": "41a17b62",
   "metadata": {},
   "outputs": [],
   "source": [
    "l=['i','love','python']\n"
   ]
  },
  {
   "cell_type": "code",
   "execution_count": 28,
   "id": "50585679",
   "metadata": {},
   "outputs": [
    {
     "name": "stdout",
     "output_type": "stream",
     "text": [
      "['i', 'love', 'python']\n"
     ]
    },
    {
     "data": {
      "text/plain": [
       "list"
      ]
     },
     "execution_count": 28,
     "metadata": {},
     "output_type": "execute_result"
    }
   ],
   "source": [
    "print(l)\n",
    "type(l)"
   ]
  },
  {
   "cell_type": "code",
   "execution_count": 29,
   "id": "5601292c",
   "metadata": {},
   "outputs": [],
   "source": [
    "books=[\"wings of fire\",\"lord of rings\"]\n",
    "series=[\"money heist\",\"dark\",\"stranger things\"]"
   ]
  },
  {
   "cell_type": "code",
   "execution_count": 30,
   "id": "2573961c",
   "metadata": {},
   "outputs": [
    {
     "name": "stdout",
     "output_type": "stream",
     "text": [
      "['wings of fire', 'lord of rings', 'money heist', 'dark', 'stranger things']\n"
     ]
    }
   ],
   "source": [
    "entertainment=books+series\n",
    "print(entertainment)"
   ]
  },
  {
   "cell_type": "code",
   "execution_count": 31,
   "id": "fa8a95d1",
   "metadata": {},
   "outputs": [
    {
     "name": "stdout",
     "output_type": "stream",
     "text": [
      "['wings of fire', 'lord of rings', 'money heist', 'dark', 'stranger things', '13 reasons why']\n"
     ]
    }
   ],
   "source": [
    "entertainment.append(\"13 reasons why\")\n",
    "print(entertainment)"
   ]
  },
  {
   "cell_type": "code",
   "execution_count": 32,
   "id": "6eb865f9",
   "metadata": {},
   "outputs": [],
   "source": [
    "price=[30,20,55.5,10,40]"
   ]
  },
  {
   "cell_type": "code",
   "execution_count": 33,
   "id": "5479634d",
   "metadata": {},
   "outputs": [
    {
     "data": {
      "text/plain": [
       "[10, 20, 30, 40, 55.5]"
      ]
     },
     "execution_count": 33,
     "metadata": {},
     "output_type": "execute_result"
    }
   ],
   "source": [
    "price.sort()\n",
    "price"
   ]
  },
  {
   "cell_type": "code",
   "execution_count": 34,
   "id": "2c744afb",
   "metadata": {},
   "outputs": [],
   "source": [
    "pro=[\"chips\",\"chocolate\",\"juice\",\"biscuits\"]\n",
    "pro.sort()"
   ]
  },
  {
   "cell_type": "code",
   "execution_count": 35,
   "id": "6a70b99d",
   "metadata": {},
   "outputs": [
    {
     "data": {
      "text/plain": [
       "['biscuits', 'chips', 'chocolate', 'juice']"
      ]
     },
     "execution_count": 35,
     "metadata": {},
     "output_type": "execute_result"
    }
   ],
   "source": [
    "pro"
   ]
  },
  {
   "cell_type": "markdown",
   "id": "349545d7",
   "metadata": {},
   "source": [
    "#### does not sort a list of mixed datatypes"
   ]
  },
  {
   "cell_type": "code",
   "execution_count": 36,
   "id": "1ab6e911",
   "metadata": {},
   "outputs": [
    {
     "ename": "TypeError",
     "evalue": "'<' not supported between instances of 'int' and 'str'",
     "output_type": "error",
     "traceback": [
      "\u001b[1;31m---------------------------------------------------------------------------\u001b[0m",
      "\u001b[1;31mTypeError\u001b[0m                                 Traceback (most recent call last)",
      "\u001b[1;32m<ipython-input-36-240762c8a770>\u001b[0m in \u001b[0;36m<module>\u001b[1;34m\u001b[0m\n\u001b[0;32m      1\u001b[0m \u001b[0mmixed\u001b[0m\u001b[1;33m=\u001b[0m\u001b[1;33m[\u001b[0m\u001b[1;34m\"1\"\u001b[0m\u001b[1;33m,\u001b[0m\u001b[1;34m\"USA\"\u001b[0m\u001b[1;33m,\u001b[0m\u001b[1;36m3\u001b[0m\u001b[1;33m,\u001b[0m\u001b[1;34m\"UK\"\u001b[0m\u001b[1;33m,\u001b[0m\u001b[1;36m2\u001b[0m\u001b[1;33m,\u001b[0m\u001b[1;34m\"Japan\"\u001b[0m\u001b[1;33m]\u001b[0m\u001b[1;33m\u001b[0m\u001b[1;33m\u001b[0m\u001b[0m\n\u001b[1;32m----> 2\u001b[1;33m \u001b[0mmixed\u001b[0m\u001b[1;33m.\u001b[0m\u001b[0msort\u001b[0m\u001b[1;33m(\u001b[0m\u001b[1;33m)\u001b[0m\u001b[1;33m\u001b[0m\u001b[1;33m\u001b[0m\u001b[0m\n\u001b[0m\u001b[0;32m      3\u001b[0m \u001b[0mmixed\u001b[0m\u001b[1;33m\u001b[0m\u001b[1;33m\u001b[0m\u001b[0m\n",
      "\u001b[1;31mTypeError\u001b[0m: '<' not supported between instances of 'int' and 'str'"
     ]
    }
   ],
   "source": [
    "mixed=[\"1\",\"USA\",3,\"UK\",2,\"Japan\"]\n",
    "mixed.sort()\n",
    "mixed"
   ]
  },
  {
   "cell_type": "code",
   "execution_count": 37,
   "id": "9f3dbe61",
   "metadata": {},
   "outputs": [
    {
     "data": {
      "text/plain": [
       "[20, 30, 40, 45, 75, 77, 96]"
      ]
     },
     "execution_count": 37,
     "metadata": {},
     "output_type": "execute_result"
    }
   ],
   "source": [
    "price=[20,40,30,45,77,96,75]\n",
    "sorted_price=sorted(price)\n",
    "sorted_price"
   ]
  },
  {
   "cell_type": "code",
   "execution_count": 38,
   "id": "09fe22b8",
   "metadata": {},
   "outputs": [
    {
     "name": "stdout",
     "output_type": "stream",
     "text": [
      "True\n"
     ]
    }
   ],
   "source": [
    "pro=[\"chips\",\"chocolate\",\"juice\",\"biscuits\"]\n",
    "print(\"chips\" in pro)"
   ]
  },
  {
   "cell_type": "code",
   "execution_count": 39,
   "id": "9e8925eb",
   "metadata": {},
   "outputs": [
    {
     "name": "stdout",
     "output_type": "stream",
     "text": [
      "True\n"
     ]
    }
   ],
   "source": [
    "print(\"chocolate\" in pro)"
   ]
  },
  {
   "cell_type": "code",
   "execution_count": 40,
   "id": "1baf9134",
   "metadata": {},
   "outputs": [
    {
     "name": "stdout",
     "output_type": "stream",
     "text": [
      "False\n"
     ]
    }
   ],
   "source": [
    "print(\"bread\" in pro)"
   ]
  },
  {
   "cell_type": "code",
   "execution_count": 41,
   "id": "d35705f4",
   "metadata": {},
   "outputs": [
    {
     "name": "stdout",
     "output_type": "stream",
     "text": [
      "True\n"
     ]
    }
   ],
   "source": [
    "print(\"bread\" not in pro)"
   ]
  },
  {
   "cell_type": "code",
   "execution_count": 42,
   "id": "88463788",
   "metadata": {},
   "outputs": [
    {
     "name": "stdout",
     "output_type": "stream",
     "text": [
      "['wings of fire', 'lord of rings']\n",
      "['wings of fire', 'lord of rings']\n"
     ]
    }
   ],
   "source": [
    "for i in books:\n",
    "    print(books)"
   ]
  },
  {
   "cell_type": "code",
   "execution_count": 43,
   "id": "4c17a489",
   "metadata": {},
   "outputs": [
    {
     "name": "stdout",
     "output_type": "stream",
     "text": [
      "wings of fire\n",
      "lord of rings\n"
     ]
    }
   ],
   "source": [
    "for i in books:\n",
    "    print(i)"
   ]
  },
  {
   "cell_type": "markdown",
   "id": "098d0b01",
   "metadata": {},
   "source": [
    "#### list operation"
   ]
  },
  {
   "cell_type": "markdown",
   "id": "3ec83a57",
   "metadata": {},
   "source": [
    "##### price=[20,40,30,45,77,96,75]"
   ]
  },
  {
   "cell_type": "code",
   "execution_count": 44,
   "id": "d0ea5c66",
   "metadata": {},
   "outputs": [
    {
     "data": {
      "text/plain": [
       "7"
      ]
     },
     "execution_count": 44,
     "metadata": {},
     "output_type": "execute_result"
    }
   ],
   "source": [
    "len(price)"
   ]
  },
  {
   "cell_type": "code",
   "execution_count": 45,
   "id": "8fbec453",
   "metadata": {},
   "outputs": [
    {
     "data": {
      "text/plain": [
       "96"
      ]
     },
     "execution_count": 45,
     "metadata": {},
     "output_type": "execute_result"
    }
   ],
   "source": [
    "max(price)"
   ]
  },
  {
   "cell_type": "code",
   "execution_count": 46,
   "id": "14ccde02",
   "metadata": {},
   "outputs": [
    {
     "data": {
      "text/plain": [
       "20"
      ]
     },
     "execution_count": 46,
     "metadata": {},
     "output_type": "execute_result"
    }
   ],
   "source": [
    "min(price)"
   ]
  },
  {
   "cell_type": "markdown",
   "id": "640b8ea9",
   "metadata": {},
   "source": [
    "##### does not support different datatypes in min nd max"
   ]
  },
  {
   "cell_type": "code",
   "execution_count": 47,
   "id": "271599b6",
   "metadata": {},
   "outputs": [
    {
     "ename": "TypeError",
     "evalue": "'>' not supported between instances of 'str' and 'int'",
     "output_type": "error",
     "traceback": [
      "\u001b[1;31m---------------------------------------------------------------------------\u001b[0m",
      "\u001b[1;31mTypeError\u001b[0m                                 Traceback (most recent call last)",
      "\u001b[1;32m<ipython-input-47-7d29b9bf5386>\u001b[0m in \u001b[0;36m<module>\u001b[1;34m\u001b[0m\n\u001b[0;32m      1\u001b[0m \u001b[0mpro_price\u001b[0m\u001b[1;33m=\u001b[0m\u001b[1;33m[\u001b[0m\u001b[1;36m10\u001b[0m\u001b[1;33m,\u001b[0m\u001b[1;36m30\u001b[0m\u001b[1;33m,\u001b[0m\u001b[1;36m20\u001b[0m\u001b[1;33m,\u001b[0m\u001b[1;34m'bread'\u001b[0m\u001b[1;33m,\u001b[0m\u001b[1;34m'dairy'\u001b[0m\u001b[1;33m]\u001b[0m\u001b[1;33m\u001b[0m\u001b[1;33m\u001b[0m\u001b[0m\n\u001b[1;32m----> 2\u001b[1;33m \u001b[0mmax\u001b[0m\u001b[1;33m(\u001b[0m\u001b[0mpro_price\u001b[0m\u001b[1;33m)\u001b[0m\u001b[1;33m\u001b[0m\u001b[1;33m\u001b[0m\u001b[0m\n\u001b[0m",
      "\u001b[1;31mTypeError\u001b[0m: '>' not supported between instances of 'str' and 'int'"
     ]
    }
   ],
   "source": [
    "pro_price=[10,30,20,'bread','dairy']\n",
    "max(pro_price)"
   ]
  },
  {
   "cell_type": "code",
   "execution_count": 49,
   "id": "e9309ec3",
   "metadata": {},
   "outputs": [
    {
     "data": {
      "text/plain": [
       "[]"
      ]
     },
     "execution_count": 49,
     "metadata": {},
     "output_type": "execute_result"
    }
   ],
   "source": [
    "pro_price.clear()\n",
    "pro_price"
   ]
  },
  {
   "cell_type": "markdown",
   "id": "b3bd5f6a",
   "metadata": {},
   "source": [
    "##### append() to add in empty list"
   ]
  },
  {
   "cell_type": "code",
   "execution_count": 50,
   "id": "3bd48940",
   "metadata": {},
   "outputs": [
    {
     "data": {
      "text/plain": [
       "[54]"
      ]
     },
     "execution_count": 50,
     "metadata": {},
     "output_type": "execute_result"
    }
   ],
   "source": [
    "pro_price.append(54)\n",
    "pro_price"
   ]
  },
  {
   "cell_type": "code",
   "execution_count": 51,
   "id": "059e94d4",
   "metadata": {},
   "outputs": [
    {
     "data": {
      "text/plain": [
       "[20, 40, 30, 45, 77, 96, 75]"
      ]
     },
     "execution_count": 51,
     "metadata": {},
     "output_type": "execute_result"
    }
   ],
   "source": [
    "price\n"
   ]
  },
  {
   "cell_type": "code",
   "execution_count": 52,
   "id": "513b1dd7",
   "metadata": {},
   "outputs": [
    {
     "data": {
      "text/plain": [
       "[20, 40, 30, 45, 77, 96, 75]"
      ]
     },
     "execution_count": 52,
     "metadata": {},
     "output_type": "execute_result"
    }
   ],
   "source": [
    "copy_price=price.copy()\n",
    "copy_price"
   ]
  },
  {
   "cell_type": "code",
   "execution_count": 53,
   "id": "d9dca8bb",
   "metadata": {},
   "outputs": [
    {
     "data": {
      "text/plain": [
       "False"
      ]
     },
     "execution_count": 53,
     "metadata": {},
     "output_type": "execute_result"
    }
   ],
   "source": [
    "price is copy_price"
   ]
  },
  {
   "cell_type": "code",
   "execution_count": 54,
   "id": "9bbbfd7d",
   "metadata": {},
   "outputs": [
    {
     "data": {
      "text/plain": [
       "False"
      ]
     },
     "execution_count": 54,
     "metadata": {},
     "output_type": "execute_result"
    }
   ],
   "source": [
    "copy_price is price"
   ]
  },
  {
   "cell_type": "code",
   "execution_count": 55,
   "id": "15e90706",
   "metadata": {},
   "outputs": [],
   "source": [
    "copy_price =price"
   ]
  },
  {
   "cell_type": "code",
   "execution_count": 56,
   "id": "65a23579",
   "metadata": {},
   "outputs": [
    {
     "data": {
      "text/plain": [
       "True"
      ]
     },
     "execution_count": 56,
     "metadata": {},
     "output_type": "execute_result"
    }
   ],
   "source": [
    "copy_price is price"
   ]
  },
  {
   "cell_type": "code",
   "execution_count": 57,
   "id": "66972a10",
   "metadata": {},
   "outputs": [
    {
     "data": {
      "text/plain": [
       "['chips', 'chocolate', 'juice', 'biscuits']"
      ]
     },
     "execution_count": 57,
     "metadata": {},
     "output_type": "execute_result"
    }
   ],
   "source": [
    "pro"
   ]
  },
  {
   "cell_type": "code",
   "execution_count": 58,
   "id": "aaf2563b",
   "metadata": {},
   "outputs": [],
   "source": [
    "pro.append(\"chips\")"
   ]
  },
  {
   "cell_type": "code",
   "execution_count": 59,
   "id": "7c461836",
   "metadata": {},
   "outputs": [
    {
     "data": {
      "text/plain": [
       "2"
      ]
     },
     "execution_count": 59,
     "metadata": {},
     "output_type": "execute_result"
    }
   ],
   "source": [
    "pro.count(\"chips\")"
   ]
  },
  {
   "cell_type": "code",
   "execution_count": 60,
   "id": "d8e934d3",
   "metadata": {},
   "outputs": [],
   "source": [
    "a=['milk','butter','cheese']\n",
    "b=['mozarilla','cheddar','paneer']\n"
   ]
  },
  {
   "cell_type": "code",
   "execution_count": 61,
   "id": "da2d5c3b",
   "metadata": {},
   "outputs": [],
   "source": [
    "a.extend(b)"
   ]
  },
  {
   "cell_type": "code",
   "execution_count": 62,
   "id": "160df6b4",
   "metadata": {},
   "outputs": [
    {
     "data": {
      "text/plain": [
       "['milk', 'butter', 'cheese', 'mozarilla', 'cheddar', 'paneer']"
      ]
     },
     "execution_count": 62,
     "metadata": {},
     "output_type": "execute_result"
    }
   ],
   "source": [
    "a"
   ]
  },
  {
   "cell_type": "code",
   "execution_count": 63,
   "id": "7659fa1f",
   "metadata": {},
   "outputs": [
    {
     "ename": "TypeError",
     "evalue": "'builtin_function_or_method' object is not subscriptable",
     "output_type": "error",
     "traceback": [
      "\u001b[1;31m---------------------------------------------------------------------------\u001b[0m",
      "\u001b[1;31mTypeError\u001b[0m                                 Traceback (most recent call last)",
      "\u001b[1;32m<ipython-input-63-0912771b449d>\u001b[0m in \u001b[0;36m<module>\u001b[1;34m\u001b[0m\n\u001b[1;32m----> 1\u001b[1;33m \u001b[0ma\u001b[0m\u001b[1;33m.\u001b[0m\u001b[0mindex\u001b[0m\u001b[1;33m[\u001b[0m\u001b[1;36m1\u001b[0m\u001b[1;33m]\u001b[0m\u001b[1;33m\u001b[0m\u001b[1;33m\u001b[0m\u001b[0m\n\u001b[0m",
      "\u001b[1;31mTypeError\u001b[0m: 'builtin_function_or_method' object is not subscriptable"
     ]
    }
   ],
   "source": [
    "a.index[1]"
   ]
  },
  {
   "cell_type": "code",
   "execution_count": 64,
   "id": "a98575d2",
   "metadata": {},
   "outputs": [
    {
     "ename": "TypeError",
     "evalue": "'builtin_function_or_method' object is not subscriptable",
     "output_type": "error",
     "traceback": [
      "\u001b[1;31m---------------------------------------------------------------------------\u001b[0m",
      "\u001b[1;31mTypeError\u001b[0m                                 Traceback (most recent call last)",
      "\u001b[1;32m<ipython-input-64-4ec394272eb0>\u001b[0m in \u001b[0;36m<module>\u001b[1;34m\u001b[0m\n\u001b[1;32m----> 1\u001b[1;33m \u001b[0ma\u001b[0m\u001b[1;33m.\u001b[0m\u001b[0mindex\u001b[0m\u001b[1;33m[\u001b[0m\u001b[1;34m\"butter\"\u001b[0m\u001b[1;33m]\u001b[0m\u001b[1;33m\u001b[0m\u001b[1;33m\u001b[0m\u001b[0m\n\u001b[0m",
      "\u001b[1;31mTypeError\u001b[0m: 'builtin_function_or_method' object is not subscriptable"
     ]
    }
   ],
   "source": [
    "a.index[\"butter\"]"
   ]
  },
  {
   "cell_type": "code",
   "execution_count": 65,
   "id": "4a9ec087",
   "metadata": {},
   "outputs": [
    {
     "data": {
      "text/plain": [
       "1"
      ]
     },
     "execution_count": 65,
     "metadata": {},
     "output_type": "execute_result"
    }
   ],
   "source": [
    "a.index(\"butter\")"
   ]
  },
  {
   "cell_type": "code",
   "execution_count": 66,
   "id": "c16fcf12",
   "metadata": {},
   "outputs": [],
   "source": [
    "a.insert(1,\"buttermilk\")"
   ]
  },
  {
   "cell_type": "code",
   "execution_count": 67,
   "id": "608d8dde",
   "metadata": {},
   "outputs": [
    {
     "data": {
      "text/plain": [
       "['milk', 'buttermilk', 'butter', 'cheese', 'mozarilla', 'cheddar', 'paneer']"
      ]
     },
     "execution_count": 67,
     "metadata": {},
     "output_type": "execute_result"
    }
   ],
   "source": [
    "a"
   ]
  },
  {
   "cell_type": "code",
   "execution_count": 68,
   "id": "448806a5",
   "metadata": {},
   "outputs": [],
   "source": [
    "a.remove(\"buttermilk\")"
   ]
  },
  {
   "cell_type": "code",
   "execution_count": 69,
   "id": "40c35514",
   "metadata": {},
   "outputs": [
    {
     "data": {
      "text/plain": [
       "['milk', 'butter', 'cheese', 'mozarilla', 'cheddar', 'paneer']"
      ]
     },
     "execution_count": 69,
     "metadata": {},
     "output_type": "execute_result"
    }
   ],
   "source": [
    "a"
   ]
  },
  {
   "cell_type": "code",
   "execution_count": 70,
   "id": "44a86191",
   "metadata": {},
   "outputs": [
    {
     "data": {
      "text/plain": [
       "'paneer'"
      ]
     },
     "execution_count": 70,
     "metadata": {},
     "output_type": "execute_result"
    }
   ],
   "source": [
    "a.pop()"
   ]
  },
  {
   "cell_type": "code",
   "execution_count": 71,
   "id": "90dd276d",
   "metadata": {},
   "outputs": [
    {
     "data": {
      "text/plain": [
       "['milk', 'butter', 'cheese', 'mozarilla', 'cheddar']"
      ]
     },
     "execution_count": 71,
     "metadata": {},
     "output_type": "execute_result"
    }
   ],
   "source": [
    "a"
   ]
  },
  {
   "cell_type": "code",
   "execution_count": 72,
   "id": "918dff5e",
   "metadata": {},
   "outputs": [
    {
     "ename": "TypeError",
     "evalue": "'str' object cannot be interpreted as an integer",
     "output_type": "error",
     "traceback": [
      "\u001b[1;31m---------------------------------------------------------------------------\u001b[0m",
      "\u001b[1;31mTypeError\u001b[0m                                 Traceback (most recent call last)",
      "\u001b[1;32m<ipython-input-72-bd617519418d>\u001b[0m in \u001b[0;36m<module>\u001b[1;34m\u001b[0m\n\u001b[1;32m----> 1\u001b[1;33m \u001b[0ma\u001b[0m\u001b[1;33m.\u001b[0m\u001b[0mpop\u001b[0m\u001b[1;33m(\u001b[0m\u001b[1;34m'milk'\u001b[0m\u001b[1;33m)\u001b[0m\u001b[1;33m\u001b[0m\u001b[1;33m\u001b[0m\u001b[0m\n\u001b[0m\u001b[0;32m      2\u001b[0m \u001b[0ma\u001b[0m\u001b[1;33m\u001b[0m\u001b[1;33m\u001b[0m\u001b[0m\n",
      "\u001b[1;31mTypeError\u001b[0m: 'str' object cannot be interpreted as an integer"
     ]
    }
   ],
   "source": [
    "a.pop('milk')\n",
    "a"
   ]
  },
  {
   "cell_type": "code",
   "execution_count": 73,
   "id": "66b3eb89",
   "metadata": {},
   "outputs": [
    {
     "ename": "TypeError",
     "evalue": "'str' object cannot be interpreted as an integer",
     "output_type": "error",
     "traceback": [
      "\u001b[1;31m---------------------------------------------------------------------------\u001b[0m",
      "\u001b[1;31mTypeError\u001b[0m                                 Traceback (most recent call last)",
      "\u001b[1;32m<ipython-input-73-722606f3af29>\u001b[0m in \u001b[0;36m<module>\u001b[1;34m\u001b[0m\n\u001b[1;32m----> 1\u001b[1;33m \u001b[0ma\u001b[0m\u001b[1;33m.\u001b[0m\u001b[0mpop\u001b[0m\u001b[1;33m(\u001b[0m\u001b[1;34m'milk'\u001b[0m\u001b[1;33m)\u001b[0m\u001b[1;33m\u001b[0m\u001b[1;33m\u001b[0m\u001b[0m\n\u001b[0m",
      "\u001b[1;31mTypeError\u001b[0m: 'str' object cannot be interpreted as an integer"
     ]
    }
   ],
   "source": [
    "a.pop('milk')"
   ]
  },
  {
   "cell_type": "code",
   "execution_count": 74,
   "id": "9fc000dd",
   "metadata": {},
   "outputs": [
    {
     "data": {
      "text/plain": [
       "'milk'"
      ]
     },
     "execution_count": 74,
     "metadata": {},
     "output_type": "execute_result"
    }
   ],
   "source": [
    "a.pop(0)"
   ]
  },
  {
   "cell_type": "code",
   "execution_count": 75,
   "id": "6662d6d3",
   "metadata": {},
   "outputs": [
    {
     "data": {
      "text/plain": [
       "['butter', 'cheese', 'mozarilla', 'cheddar']"
      ]
     },
     "execution_count": 75,
     "metadata": {},
     "output_type": "execute_result"
    }
   ],
   "source": [
    "a"
   ]
  },
  {
   "cell_type": "code",
   "execution_count": 76,
   "id": "4163209e",
   "metadata": {},
   "outputs": [
    {
     "data": {
      "text/plain": [
       "['cheddar', 'mozarilla', 'cheese', 'butter']"
      ]
     },
     "execution_count": 76,
     "metadata": {},
     "output_type": "execute_result"
    }
   ],
   "source": [
    "a.reverse()\n",
    "a"
   ]
  },
  {
   "cell_type": "code",
   "execution_count": 77,
   "id": "79d398da",
   "metadata": {},
   "outputs": [],
   "source": [
    "a.reverse()"
   ]
  },
  {
   "cell_type": "code",
   "execution_count": 78,
   "id": "a8b3b3c8",
   "metadata": {},
   "outputs": [
    {
     "data": {
      "text/plain": [
       "['butter', 'cheese', 'mozarilla', 'cheddar']"
      ]
     },
     "execution_count": 78,
     "metadata": {},
     "output_type": "execute_result"
    }
   ],
   "source": [
    "a"
   ]
  },
  {
   "cell_type": "code",
   "execution_count": 79,
   "id": "ac531337",
   "metadata": {},
   "outputs": [],
   "source": [
    "a.sort()"
   ]
  },
  {
   "cell_type": "code",
   "execution_count": 80,
   "id": "0519a084",
   "metadata": {},
   "outputs": [],
   "source": [
    "a.reverse()"
   ]
  },
  {
   "cell_type": "code",
   "execution_count": 81,
   "id": "d1ee3441",
   "metadata": {},
   "outputs": [
    {
     "data": {
      "text/plain": [
       "['mozarilla', 'cheese', 'cheddar', 'butter']"
      ]
     },
     "execution_count": 81,
     "metadata": {},
     "output_type": "execute_result"
    }
   ],
   "source": [
    "a"
   ]
  },
  {
   "cell_type": "code",
   "execution_count": 82,
   "id": "b16561f2",
   "metadata": {},
   "outputs": [
    {
     "data": {
      "text/plain": [
       "['mozarilla', 'cheese']"
      ]
     },
     "execution_count": 82,
     "metadata": {},
     "output_type": "execute_result"
    }
   ],
   "source": [
    "a[0:2]"
   ]
  },
  {
   "cell_type": "code",
   "execution_count": 83,
   "id": "0be7e573",
   "metadata": {},
   "outputs": [
    {
     "data": {
      "text/plain": [
       "'lord of rings'"
      ]
     },
     "execution_count": 83,
     "metadata": {},
     "output_type": "execute_result"
    }
   ],
   "source": [
    "books[-1]"
   ]
  },
  {
   "cell_type": "code",
   "execution_count": 84,
   "id": "2d904c2d",
   "metadata": {},
   "outputs": [
    {
     "data": {
      "text/plain": [
       "['butter', 'cheddar', 'cheese', 'mozarilla']"
      ]
     },
     "execution_count": 84,
     "metadata": {},
     "output_type": "execute_result"
    }
   ],
   "source": [
    "a[::-1]"
   ]
  },
  {
   "cell_type": "markdown",
   "id": "a7a3f3c1",
   "metadata": {},
   "source": [
    "#### tuples"
   ]
  },
  {
   "cell_type": "markdown",
   "id": "05584fd2",
   "metadata": {},
   "source": [
    "#### tuples can have parenthesis..it's not a compulsory one"
   ]
  },
  {
   "cell_type": "code",
   "execution_count": 85,
   "id": "412f6ff1",
   "metadata": {},
   "outputs": [
    {
     "name": "stdout",
     "output_type": "stream",
     "text": [
      "('apple', 'banana', 'orange', 120, 130, 140)\n"
     ]
    },
    {
     "data": {
      "text/plain": [
       "tuple"
      ]
     },
     "execution_count": 85,
     "metadata": {},
     "output_type": "execute_result"
    }
   ],
   "source": [
    "pro_purch=\"apple\",\"banana\",\"orange\",120,130,140\n",
    "print(pro_purch)\n",
    "type(pro_purch)"
   ]
  },
  {
   "cell_type": "markdown",
   "id": "749b06a5",
   "metadata": {},
   "source": [
    "#### tuple doesnt have sort()...it can be sorted using sorted()"
   ]
  },
  {
   "cell_type": "code",
   "execution_count": 86,
   "id": "5843e44c",
   "metadata": {},
   "outputs": [
    {
     "data": {
      "text/plain": [
       "[20, 40, 30, 45, 77, 96, 75]"
      ]
     },
     "execution_count": 86,
     "metadata": {},
     "output_type": "execute_result"
    }
   ],
   "source": [
    "price"
   ]
  },
  {
   "cell_type": "code",
   "execution_count": 87,
   "id": "801e0b78",
   "metadata": {},
   "outputs": [],
   "source": [
    "price=20,40,60,30,50\n"
   ]
  },
  {
   "cell_type": "code",
   "execution_count": 88,
   "id": "4af90423",
   "metadata": {},
   "outputs": [
    {
     "data": {
      "text/plain": [
       "[20, 30, 40, 50, 60]"
      ]
     },
     "execution_count": 88,
     "metadata": {},
     "output_type": "execute_result"
    }
   ],
   "source": [
    "sorted(price)"
   ]
  },
  {
   "cell_type": "code",
   "execution_count": 89,
   "id": "b685e8a3",
   "metadata": {},
   "outputs": [
    {
     "data": {
      "text/plain": [
       "[70, 30, 20, 15, 10, 5]"
      ]
     },
     "execution_count": 89,
     "metadata": {},
     "output_type": "execute_result"
    }
   ],
   "source": [
    "item_price=20,10,5,15,70,30\n",
    "sorted_itemprice=sorted(item_price,reverse=True)\n",
    "sorted_itemprice\n"
   ]
  },
  {
   "cell_type": "code",
   "execution_count": 90,
   "id": "5c13bb14",
   "metadata": {},
   "outputs": [
    {
     "data": {
      "text/plain": [
       "[5, 10, 15, 20, 30, 70]"
      ]
     },
     "execution_count": 90,
     "metadata": {},
     "output_type": "execute_result"
    }
   ],
   "source": [
    "item_price=20,10,5,15,70,30\n",
    "sorted_itemprice=sorted(item_price,reverse=False)\n",
    "sorted_itemprice"
   ]
  },
  {
   "cell_type": "code",
   "execution_count": 91,
   "id": "2fc8ef4c",
   "metadata": {},
   "outputs": [
    {
     "name": "stdout",
     "output_type": "stream",
     "text": [
      "('burger', 'french fries', 'burger', 'french fries', 'burger', 'french fries')\n"
     ]
    }
   ],
   "source": [
    "orders=\"burger\",\"french fries\"\n",
    "n=3\n",
    "repeated_tuple=orders*n\n",
    "print(repeated_tuple)"
   ]
  },
  {
   "cell_type": "code",
   "execution_count": 92,
   "id": "eaa9b666",
   "metadata": {},
   "outputs": [
    {
     "data": {
      "text/plain": [
       "('fries', 'sauce', 'burger', 'pizza')"
      ]
     },
     "execution_count": 92,
     "metadata": {},
     "output_type": "execute_result"
    }
   ],
   "source": [
    "ord_on=\"fries\",\"sauce\"\n",
    "ord_off=\"burger\",\"pizza\"\n",
    "ord=ord_on+ord_off\n",
    "ord"
   ]
  },
  {
   "cell_type": "markdown",
   "id": "ef398bf1",
   "metadata": {},
   "source": [
    "#### orders=\"burger\",\"french fries\""
   ]
  },
  {
   "cell_type": "code",
   "execution_count": 93,
   "id": "4ad9c3ee",
   "metadata": {},
   "outputs": [
    {
     "name": "stdout",
     "output_type": "stream",
     "text": [
      "True\n"
     ]
    }
   ],
   "source": [
    "print(\"burger\" in orders)"
   ]
  },
  {
   "cell_type": "code",
   "execution_count": 94,
   "id": "d8553132",
   "metadata": {},
   "outputs": [
    {
     "name": "stdout",
     "output_type": "stream",
     "text": [
      "False\n"
     ]
    }
   ],
   "source": [
    "print(\"waffles\" in orders)"
   ]
  },
  {
   "cell_type": "code",
   "execution_count": 95,
   "id": "71d2cd83",
   "metadata": {},
   "outputs": [
    {
     "name": "stdout",
     "output_type": "stream",
     "text": [
      "True\n"
     ]
    }
   ],
   "source": [
    "print(\"waffles\" not in orders)"
   ]
  },
  {
   "cell_type": "code",
   "execution_count": 96,
   "id": "f5dc1afb",
   "metadata": {},
   "outputs": [
    {
     "name": "stdout",
     "output_type": "stream",
     "text": [
      "burger\n",
      "french fries\n"
     ]
    }
   ],
   "source": [
    "for i in orders:\n",
    "    print(i)"
   ]
  },
  {
   "cell_type": "code",
   "execution_count": 97,
   "id": "09b1cd69",
   "metadata": {},
   "outputs": [
    {
     "data": {
      "text/plain": [
       "2"
      ]
     },
     "execution_count": 97,
     "metadata": {},
     "output_type": "execute_result"
    }
   ],
   "source": [
    "len(orders)"
   ]
  },
  {
   "cell_type": "markdown",
   "id": "9db0006c",
   "metadata": {},
   "source": [
    "#### price=20,40,60,30,50"
   ]
  },
  {
   "cell_type": "code",
   "execution_count": 98,
   "id": "cb79fe8e",
   "metadata": {},
   "outputs": [
    {
     "data": {
      "text/plain": [
       "60"
      ]
     },
     "execution_count": 98,
     "metadata": {},
     "output_type": "execute_result"
    }
   ],
   "source": [
    "max(price)"
   ]
  },
  {
   "cell_type": "code",
   "execution_count": 99,
   "id": "522513c6",
   "metadata": {},
   "outputs": [
    {
     "data": {
      "text/plain": [
       "20"
      ]
     },
     "execution_count": 99,
     "metadata": {},
     "output_type": "execute_result"
    }
   ],
   "source": [
    "min(price)"
   ]
  },
  {
   "cell_type": "markdown",
   "id": "496a3105",
   "metadata": {},
   "source": [
    "#### max nd min not for mixed datatypes"
   ]
  },
  {
   "cell_type": "code",
   "execution_count": 100,
   "id": "4829aee8",
   "metadata": {},
   "outputs": [
    {
     "ename": "TypeError",
     "evalue": "'>' not supported between instances of 'int' and 'str'",
     "output_type": "error",
     "traceback": [
      "\u001b[1;31m---------------------------------------------------------------------------\u001b[0m",
      "\u001b[1;31mTypeError\u001b[0m                                 Traceback (most recent call last)",
      "\u001b[1;32m<ipython-input-100-6c0d325bdc0c>\u001b[0m in \u001b[0;36m<module>\u001b[1;34m\u001b[0m\n\u001b[0;32m      1\u001b[0m \u001b[0mprice\u001b[0m\u001b[1;33m=\u001b[0m\u001b[1;34m\"lime\"\u001b[0m\u001b[1;33m,\u001b[0m\u001b[1;36m10\u001b[0m\u001b[1;33m,\u001b[0m\u001b[1;34m\"apple\"\u001b[0m\u001b[1;33m,\u001b[0m\u001b[1;34m\"50\"\u001b[0m\u001b[1;33m\u001b[0m\u001b[1;33m\u001b[0m\u001b[0m\n\u001b[1;32m----> 2\u001b[1;33m \u001b[0mmax\u001b[0m\u001b[1;33m(\u001b[0m\u001b[0mprice\u001b[0m\u001b[1;33m)\u001b[0m\u001b[1;33m\u001b[0m\u001b[1;33m\u001b[0m\u001b[0m\n\u001b[0m",
      "\u001b[1;31mTypeError\u001b[0m: '>' not supported between instances of 'int' and 'str'"
     ]
    }
   ],
   "source": [
    "price=\"lime\",10,\"apple\",\"50\"\n",
    "max(price)"
   ]
  },
  {
   "cell_type": "code",
   "execution_count": 101,
   "id": "55e5ba9f",
   "metadata": {},
   "outputs": [
    {
     "data": {
      "text/plain": [
       "(20, 40, 60, 30, 50, [4, 7, 8, 130])"
      ]
     },
     "execution_count": 101,
     "metadata": {},
     "output_type": "execute_result"
    }
   ],
   "source": [
    "price=(20,40,60,30,50,[4,7,8])\n",
    "price[5].append(130)\n",
    "price"
   ]
  },
  {
   "cell_type": "markdown",
   "id": "d90bfccf",
   "metadata": {},
   "source": [
    "### tuples are immutable"
   ]
  },
  {
   "cell_type": "code",
   "execution_count": 102,
   "id": "0765a53f",
   "metadata": {},
   "outputs": [
    {
     "ename": "TypeError",
     "evalue": "'tuple' object does not support item assignment",
     "output_type": "error",
     "traceback": [
      "\u001b[1;31m---------------------------------------------------------------------------\u001b[0m",
      "\u001b[1;31mTypeError\u001b[0m                                 Traceback (most recent call last)",
      "\u001b[1;32m<ipython-input-102-0e75c15d16e2>\u001b[0m in \u001b[0;36m<module>\u001b[1;34m\u001b[0m\n\u001b[0;32m      1\u001b[0m \u001b[0msample_tup\u001b[0m\u001b[1;33m=\u001b[0m\u001b[1;33m(\u001b[0m\u001b[1;36m1\u001b[0m\u001b[1;33m,\u001b[0m\u001b[1;36m2\u001b[0m\u001b[1;33m,\u001b[0m\u001b[1;36m3\u001b[0m\u001b[1;33m,\u001b[0m\u001b[1;36m4\u001b[0m\u001b[1;33m)\u001b[0m\u001b[1;33m\u001b[0m\u001b[1;33m\u001b[0m\u001b[0m\n\u001b[1;32m----> 2\u001b[1;33m \u001b[0msample_tup\u001b[0m\u001b[1;33m[\u001b[0m\u001b[1;36m0\u001b[0m\u001b[1;33m]\u001b[0m\u001b[1;33m=\u001b[0m\u001b[1;36m6\u001b[0m\u001b[1;33m\u001b[0m\u001b[1;33m\u001b[0m\u001b[0m\n\u001b[0m\u001b[0;32m      3\u001b[0m \u001b[0msample_tup\u001b[0m\u001b[1;33m\u001b[0m\u001b[1;33m\u001b[0m\u001b[0m\n",
      "\u001b[1;31mTypeError\u001b[0m: 'tuple' object does not support item assignment"
     ]
    }
   ],
   "source": [
    "sample_tup=(1,2,3,4)\n",
    "sample_tup[0]=6\n",
    "sample_tup"
   ]
  },
  {
   "cell_type": "markdown",
   "id": "ce624a63",
   "metadata": {},
   "source": [
    "### Sets are heterogeneous,mutable,cannot retrieve using index"
   ]
  },
  {
   "cell_type": "markdown",
   "id": "7cd4ee74",
   "metadata": {},
   "source": [
    "### Dictionaries"
   ]
  },
  {
   "cell_type": "code",
   "execution_count": 103,
   "id": "57b83461",
   "metadata": {},
   "outputs": [
    {
     "ename": "SyntaxError",
     "evalue": "invalid syntax (<ipython-input-103-2de8248da364>, line 1)",
     "output_type": "error",
     "traceback": [
      "\u001b[1;36m  File \u001b[1;32m\"<ipython-input-103-2de8248da364>\"\u001b[1;36m, line \u001b[1;32m1\u001b[0m\n\u001b[1;33m    books{\u001b[0m\n\u001b[1;37m         ^\u001b[0m\n\u001b[1;31mSyntaxError\u001b[0m\u001b[1;31m:\u001b[0m invalid syntax\n"
     ]
    }
   ],
   "source": [
    "books{\n",
    "    \"java\":10,\n",
    "    \"python\":20,\n",
    "    \"C programmimg\":25\n",
    "}\n",
    "books"
   ]
  },
  {
   "cell_type": "code",
   "execution_count": 104,
   "id": "bfd78775",
   "metadata": {},
   "outputs": [
    {
     "data": {
      "text/plain": [
       "{'java': 10, 'python': 20, 'C programmimg': 25}"
      ]
     },
     "execution_count": 104,
     "metadata": {},
     "output_type": "execute_result"
    }
   ],
   "source": [
    "books={\n",
    "    \"java\":10,\n",
    "    \"python\":20,\n",
    "    \"C programmimg\":25\n",
    "}\n",
    "books"
   ]
  },
  {
   "cell_type": "code",
   "execution_count": 105,
   "id": "7b2ea52b",
   "metadata": {},
   "outputs": [
    {
     "data": {
      "text/plain": [
       "{'java': 10, 'python': 20, 'C programmimg': 25, 'C++': 30}"
      ]
     },
     "execution_count": 105,
     "metadata": {},
     "output_type": "execute_result"
    }
   ],
   "source": [
    "books[\"C++\"]=30\n",
    "books"
   ]
  },
  {
   "cell_type": "code",
   "execution_count": 106,
   "id": "999abb79",
   "metadata": {},
   "outputs": [
    {
     "name": "stdout",
     "output_type": "stream",
     "text": [
      "{'java': 10, 'python': 20, 'C programmimg': 25}\n"
     ]
    }
   ],
   "source": [
    "del books[\"C++\"]\n",
    "print(books)"
   ]
  },
  {
   "cell_type": "code",
   "execution_count": 108,
   "id": "5ba52c74",
   "metadata": {},
   "outputs": [
    {
     "name": "stdout",
     "output_type": "stream",
     "text": [
      "{'To': 1, 'begin': 2, 'to': 4, 'toboggan': 4, 'first': 1, 'buy': 3, 'a': 4, 'toboggan,': 1, 'but': 1, \"don't\": 1, 'too': 2, 'big': 3, 'toboggan.': 1, 'Too': 1, 'is': 1}\n"
     ]
    }
   ],
   "source": [
    "twister=\"To begin to toboggan first buy a toboggan, but don't buy too big a toboggan. Too big a toboggan is too big a toboggan to buy to begin to toboggan\"\n",
    "word_count={}\n",
    "for word in twister.split():\n",
    "    if word not in word_count:\n",
    "        word_count[word]=1\n",
    "    else:\n",
    "        word_count[word]+=1\n",
    "print(word_count)"
   ]
  },
  {
   "cell_type": "markdown",
   "id": "06260f27",
   "metadata": {},
   "source": [
    "###### not initialized"
   ]
  },
  {
   "cell_type": "code",
   "execution_count": 109,
   "id": "db5d19ca",
   "metadata": {},
   "outputs": [
    {
     "ename": "KeyError",
     "evalue": "'To'",
     "output_type": "error",
     "traceback": [
      "\u001b[1;31m---------------------------------------------------------------------------\u001b[0m",
      "\u001b[1;31mKeyError\u001b[0m                                  Traceback (most recent call last)",
      "\u001b[1;32m<ipython-input-109-0c534108fa0c>\u001b[0m in \u001b[0;36m<module>\u001b[1;34m\u001b[0m\n\u001b[0;32m      2\u001b[0m \u001b[0mword_count\u001b[0m\u001b[1;33m=\u001b[0m\u001b[1;33m{\u001b[0m\u001b[1;33m}\u001b[0m\u001b[1;33m\u001b[0m\u001b[1;33m\u001b[0m\u001b[0m\n\u001b[0;32m      3\u001b[0m \u001b[1;32mfor\u001b[0m \u001b[0mword\u001b[0m \u001b[1;32min\u001b[0m \u001b[0mtwister\u001b[0m\u001b[1;33m.\u001b[0m\u001b[0msplit\u001b[0m\u001b[1;33m(\u001b[0m\u001b[1;33m)\u001b[0m\u001b[1;33m:\u001b[0m\u001b[1;33m\u001b[0m\u001b[1;33m\u001b[0m\u001b[0m\n\u001b[1;32m----> 4\u001b[1;33m      \u001b[0mword_count\u001b[0m\u001b[1;33m[\u001b[0m\u001b[0mword\u001b[0m\u001b[1;33m]\u001b[0m\u001b[1;33m+=\u001b[0m\u001b[1;36m1\u001b[0m\u001b[1;33m\u001b[0m\u001b[1;33m\u001b[0m\u001b[0m\n\u001b[0m\u001b[0;32m      5\u001b[0m \u001b[0mprint\u001b[0m\u001b[1;33m(\u001b[0m\u001b[0mword_count\u001b[0m\u001b[1;33m)\u001b[0m\u001b[1;33m\u001b[0m\u001b[1;33m\u001b[0m\u001b[0m\n",
      "\u001b[1;31mKeyError\u001b[0m: 'To'"
     ]
    }
   ],
   "source": [
    "twister=\"To begin to toboggan first buy a toboggan, but don't buy too big a toboggan. Too big a toboggan is too big a toboggan to buy to begin to toboggan\"\n",
    "word_count={}\n",
    "for word in twister.split():\n",
    "     word_count[word]+=1\n",
    "print(word_count)  "
   ]
  },
  {
   "cell_type": "markdown",
   "id": "85dc3e5d",
   "metadata": {},
   "source": [
    "### inorder to avoid above erroe..we use defaultdict()"
   ]
  },
  {
   "cell_type": "code",
   "execution_count": 111,
   "id": "5ac696ad",
   "metadata": {},
   "outputs": [
    {
     "name": "stdout",
     "output_type": "stream",
     "text": [
      "defaultdict(<class 'int'>, {'To': 1, 'begin': 2, 'to': 4, 'toboggan': 4, 'first': 1, 'buy': 3, 'a': 4, 'toboggan,': 1, 'but': 1, \"don't\": 1, 'too': 2, 'big': 3, 'toboggan.': 1, 'Too': 1, 'is': 1})\n"
     ]
    }
   ],
   "source": [
    "from collections import defaultdict\n",
    "twister=\"To begin to toboggan first buy a toboggan, but don't buy too big a toboggan. Too big a toboggan is too big a toboggan to buy to begin to toboggan\"\n",
    "word_count=defaultdict(int)\n",
    "for word in twister.split():\n",
    "     word_count[word]+=1\n",
    "print(word_count)"
   ]
  },
  {
   "cell_type": "code",
   "execution_count": 112,
   "id": "f28945e2",
   "metadata": {},
   "outputs": [
    {
     "name": "stdout",
     "output_type": "stream",
     "text": [
      "To 1\n",
      "begin 2\n",
      "to 4\n",
      "toboggan 4\n",
      "first 1\n",
      "buy 3\n",
      "a 4\n",
      "toboggan, 1\n",
      "but 1\n",
      "don't 1\n",
      "too 2\n",
      "big 3\n",
      "toboggan. 1\n",
      "Too 1\n",
      "is 1\n"
     ]
    }
   ],
   "source": [
    "from collections import defaultdict\n",
    "twister=\"To begin to toboggan first buy a toboggan, but don't buy too big a toboggan. Too big a toboggan is too big a toboggan to buy to begin to toboggan\"\n",
    "word_count=defaultdict(int)\n",
    "for word in twister.split():\n",
    "     word_count[word]+=1\n",
    "for key,value in word_count.items():\n",
    "    print(key,value)"
   ]
  },
  {
   "cell_type": "code",
   "execution_count": 114,
   "id": "0d092924",
   "metadata": {},
   "outputs": [
    {
     "data": {
      "text/plain": [
       "{'apple': 1, 'banana': 5, 'orange': 10}"
      ]
     },
     "execution_count": 114,
     "metadata": {},
     "output_type": "execute_result"
    }
   ],
   "source": [
    "items_purch={\n",
    "    \"apple\":1,\n",
    "    \"banana\":5,\n",
    "    \"orange\":10\n",
    "}\n",
    "items_purch\n"
   ]
  },
  {
   "cell_type": "code",
   "execution_count": 115,
   "id": "8fd10857",
   "metadata": {},
   "outputs": [
    {
     "data": {
      "text/plain": [
       "3"
      ]
     },
     "execution_count": 115,
     "metadata": {},
     "output_type": "execute_result"
    }
   ],
   "source": [
    "len(items_purch)"
   ]
  },
  {
   "cell_type": "code",
   "execution_count": 118,
   "id": "e72dc096",
   "metadata": {},
   "outputs": [
    {
     "data": {
      "text/plain": [
       "\"{'apple': 1, 'banana': 5, 'orange': 10}\""
      ]
     },
     "execution_count": 118,
     "metadata": {},
     "output_type": "execute_result"
    }
   ],
   "source": [
    "str(items_purch)"
   ]
  },
  {
   "cell_type": "code",
   "execution_count": 119,
   "id": "ea4d7d52",
   "metadata": {},
   "outputs": [
    {
     "data": {
      "text/plain": [
       "dict"
      ]
     },
     "execution_count": 119,
     "metadata": {},
     "output_type": "execute_result"
    }
   ],
   "source": [
    "type(items_purch)"
   ]
  },
  {
   "cell_type": "code",
   "execution_count": 120,
   "id": "d7b22203",
   "metadata": {},
   "outputs": [],
   "source": [
    "items_purch.clear()"
   ]
  },
  {
   "cell_type": "code",
   "execution_count": 121,
   "id": "a637111b",
   "metadata": {},
   "outputs": [
    {
     "data": {
      "text/plain": [
       "{}"
      ]
     },
     "execution_count": 121,
     "metadata": {},
     "output_type": "execute_result"
    }
   ],
   "source": [
    "items_purch"
   ]
  },
  {
   "cell_type": "code",
   "execution_count": 122,
   "id": "25e25568",
   "metadata": {},
   "outputs": [
    {
     "data": {
      "text/plain": [
       "{'apple': 1, 'banana': 5, 'chiku': 10}"
      ]
     },
     "execution_count": 122,
     "metadata": {},
     "output_type": "execute_result"
    }
   ],
   "source": [
    "items_purch={\n",
    "    \"apple\":1,\n",
    "    \"banana\":5,\n",
    "    \"chiku\":10\n",
    "}\n",
    "items_purch"
   ]
  },
  {
   "cell_type": "code",
   "execution_count": 123,
   "id": "a1ab5bba",
   "metadata": {},
   "outputs": [
    {
     "data": {
      "text/plain": [
       "{'apple': 1, 'banana': 5, 'chiku': 10}"
      ]
     },
     "execution_count": 123,
     "metadata": {},
     "output_type": "execute_result"
    }
   ],
   "source": [
    "purch_price=items_purch.copy()\n",
    "purch_price"
   ]
  },
  {
   "cell_type": "code",
   "execution_count": 124,
   "id": "18d617a0",
   "metadata": {},
   "outputs": [
    {
     "data": {
      "text/plain": [
       "dict_keys(['apple', 'banana', 'chiku'])"
      ]
     },
     "execution_count": 124,
     "metadata": {},
     "output_type": "execute_result"
    }
   ],
   "source": [
    "items_purch.keys()"
   ]
  },
  {
   "cell_type": "code",
   "execution_count": 125,
   "id": "9b5bb9bb",
   "metadata": {},
   "outputs": [
    {
     "data": {
      "text/plain": [
       "dict_values([1, 5, 10])"
      ]
     },
     "execution_count": 125,
     "metadata": {},
     "output_type": "execute_result"
    }
   ],
   "source": [
    "items_purch.values()"
   ]
  },
  {
   "cell_type": "code",
   "execution_count": 126,
   "id": "f0ad8523",
   "metadata": {},
   "outputs": [
    {
     "data": {
      "text/plain": [
       "dict_items([('apple', 1), ('banana', 5), ('chiku', 10)])"
      ]
     },
     "execution_count": 126,
     "metadata": {},
     "output_type": "execute_result"
    }
   ],
   "source": [
    "items_purch.items()"
   ]
  },
  {
   "cell_type": "code",
   "execution_count": 129,
   "id": "fba6b9f6",
   "metadata": {},
   "outputs": [
    {
     "ename": "SyntaxError",
     "evalue": "invalid syntax (<ipython-input-129-6650caddfe1f>, line 1)",
     "output_type": "error",
     "traceback": [
      "\u001b[1;36m  File \u001b[1;32m\"<ipython-input-129-6650caddfe1f>\"\u001b[1;36m, line \u001b[1;32m1\u001b[0m\n\u001b[1;33m    print(\"Amount to be paid:\"items_purch(get(\"apple\")))\u001b[0m\n\u001b[1;37m                              ^\u001b[0m\n\u001b[1;31mSyntaxError\u001b[0m\u001b[1;31m:\u001b[0m invalid syntax\n"
     ]
    }
   ],
   "source": [
    "print(\"Amount to be paid:\"items_purch(get(\"apple\"))"
   ]
  },
  {
   "cell_type": "code",
   "execution_count": 132,
   "id": "6e448a12",
   "metadata": {},
   "outputs": [
    {
     "name": "stdout",
     "output_type": "stream",
     "text": [
      "Amount to be paid: 1\n"
     ]
    }
   ],
   "source": [
    "print(\"Amount to be paid:\",items_purch.get(\"apple\"))"
   ]
  },
  {
   "cell_type": "code",
   "execution_count": 133,
   "id": "d139ba52",
   "metadata": {},
   "outputs": [
    {
     "name": "stdout",
     "output_type": "stream",
     "text": [
      "Amount to be paid: None\n"
     ]
    }
   ],
   "source": [
    "print(\"Amount to be paid:\",items_purch.get(\"orange\"))"
   ]
  },
  {
   "cell_type": "code",
   "execution_count": 134,
   "id": "05b09b61",
   "metadata": {},
   "outputs": [
    {
     "data": {
      "text/plain": [
       "{'apple': 1, 'banana': 5, 'chiku': 10, 'orange': 30}"
      ]
     },
     "execution_count": 134,
     "metadata": {},
     "output_type": "execute_result"
    }
   ],
   "source": [
    "items_purch.setdefault(\"orange\",30)\n",
    "items_purch"
   ]
  },
  {
   "cell_type": "code",
   "execution_count": 138,
   "id": "f9827cc6",
   "metadata": {},
   "outputs": [
    {
     "name": "stdout",
     "output_type": "stream",
     "text": [
      "Dictionary:  {'ord_id': None, 'cust_id': None, 'amount': None}\n",
      "updated dictionary:  {'ord_id': 8, 'cust_id': 8, 'amount': 8}\n"
     ]
    }
   ],
   "source": [
    "tup=('ord_id','cust_id','amount')\n",
    "dict1=dict.fromkeys(tup)\n",
    "print(\"Dictionary: \",dict1)\n",
    "dict2=dict.fromkeys(tup,8)\n",
    "print(\"updated dictionary: \",dict2)"
   ]
  },
  {
   "cell_type": "code",
   "execution_count": 141,
   "id": "2573f45a",
   "metadata": {},
   "outputs": [],
   "source": [
    "items_purch[\"apple\"]=7"
   ]
  },
  {
   "cell_type": "code",
   "execution_count": 142,
   "id": "f3ba0eaf",
   "metadata": {},
   "outputs": [
    {
     "data": {
      "text/plain": [
       "{'apple': 7, 'banana': 5, 'chiku': 10, 'orange': 30}"
      ]
     },
     "execution_count": 142,
     "metadata": {},
     "output_type": "execute_result"
    }
   ],
   "source": [
    "items_purch"
   ]
  },
  {
   "cell_type": "code",
   "execution_count": 143,
   "id": "e7656bbc",
   "metadata": {},
   "outputs": [],
   "source": [
    "del items_purch[\"banana\"]"
   ]
  },
  {
   "cell_type": "code",
   "execution_count": 144,
   "id": "70cbf3ac",
   "metadata": {},
   "outputs": [
    {
     "data": {
      "text/plain": [
       "{'apple': 7, 'chiku': 10, 'orange': 30}"
      ]
     },
     "execution_count": 144,
     "metadata": {},
     "output_type": "execute_result"
    }
   ],
   "source": [
    "items_purch"
   ]
  },
  {
   "cell_type": "code",
   "execution_count": 145,
   "id": "a24b0778",
   "metadata": {},
   "outputs": [
    {
     "name": "stdout",
     "output_type": "stream",
     "text": [
      "{'chips': 10, 'cookies': 20}\n"
     ]
    }
   ],
   "source": [
    "items=['chips','cookies']\n",
    "price=[10,20]\n",
    "dictionary=dict(zip(items,price))\n",
    "print(dictionary)"
   ]
  },
  {
   "cell_type": "markdown",
   "id": "3408549a",
   "metadata": {},
   "source": [
    "#### List Comprehension"
   ]
  },
  {
   "cell_type": "markdown",
   "id": "10df0e24",
   "metadata": {},
   "source": [
    "###### creating list using for loop"
   ]
  },
  {
   "cell_type": "code",
   "execution_count": 147,
   "id": "3667b018",
   "metadata": {},
   "outputs": [
    {
     "name": "stdout",
     "output_type": "stream",
     "text": [
      "[1, 4, 9, 16, 25, 36, 49, 64, 81, 100]\n"
     ]
    }
   ],
   "source": [
    "num=[]\n",
    "for i in range(1,11):\n",
    "    num.append(i*i)\n",
    "print(num)"
   ]
  },
  {
   "cell_type": "markdown",
   "id": "28443637",
   "metadata": {},
   "source": [
    "###### creating list using list comprehension"
   ]
  },
  {
   "cell_type": "code",
   "execution_count": 148,
   "id": "74412856",
   "metadata": {},
   "outputs": [
    {
     "name": "stdout",
     "output_type": "stream",
     "text": [
      "[1, 4, 9, 16, 25, 36, 49, 64, 81, 100]\n"
     ]
    }
   ],
   "source": [
    "num=[i*i for i in range(1,11)]\n",
    "print(num)"
   ]
  },
  {
   "cell_type": "markdown",
   "id": "612acea4",
   "metadata": {},
   "source": [
    "#### using for"
   ]
  },
  {
   "cell_type": "code",
   "execution_count": 149,
   "id": "66813e3e",
   "metadata": {},
   "outputs": [
    {
     "name": "stdout",
     "output_type": "stream",
     "text": [
      "20\n",
      "30\n",
      "24\n",
      "40\n",
      "60\n",
      "50\n"
     ]
    }
   ],
   "source": [
    "item_price=[10,15,12,20,30,25]\n",
    "for elements in item_price:\n",
    "    print(elements*2)"
   ]
  },
  {
   "cell_type": "code",
   "execution_count": 150,
   "id": "f371ea61",
   "metadata": {},
   "outputs": [
    {
     "name": "stdout",
     "output_type": "stream",
     "text": [
      "[20, 30, 24, 40, 60, 50]\n"
     ]
    }
   ],
   "source": [
    "item_price=[10,15,12,20,30,25]\n",
    "res=[elements*2 for elements in item_price]\n",
    "print(res)"
   ]
  },
  {
   "cell_type": "markdown",
   "id": "375fa571",
   "metadata": {},
   "source": [
    "#### printing 1st letter from elements"
   ]
  },
  {
   "cell_type": "code",
   "execution_count": 151,
   "id": "acd099d2",
   "metadata": {},
   "outputs": [
    {
     "data": {
      "text/plain": [
       "['chips', 'chocolate', 'juice', 'biscuits', 'chips']"
      ]
     },
     "execution_count": 151,
     "metadata": {},
     "output_type": "execute_result"
    }
   ],
   "source": [
    "pro"
   ]
  },
  {
   "cell_type": "code",
   "execution_count": 153,
   "id": "a703cba8",
   "metadata": {},
   "outputs": [
    {
     "data": {
      "text/plain": [
       "['c', 'c', 'j', 'b', 'c']"
      ]
     },
     "execution_count": 153,
     "metadata": {},
     "output_type": "execute_result"
    }
   ],
   "source": [
    "first_letter=[i[0] for i in pro]\n",
    "first_letter"
   ]
  },
  {
   "cell_type": "code",
   "execution_count": 2,
   "id": "819576a8",
   "metadata": {},
   "outputs": [
    {
     "data": {
      "text/plain": [
       "[23, 8000000]"
      ]
     },
     "execution_count": 2,
     "metadata": {},
     "output_type": "execute_result"
    }
   ],
   "source": [
    "text=\"Ram is 23 years old and he earns 8000000 per annum\"\n",
    "num=[int(i) for i in text.split() if i.isdigit()==True]\n",
    "num"
   ]
  },
  {
   "cell_type": "markdown",
   "id": "79e4a90d",
   "metadata": {},
   "source": [
    "#### extracting vowels from string"
   ]
  },
  {
   "cell_type": "code",
   "execution_count": 3,
   "id": "9f341fb4",
   "metadata": {},
   "outputs": [
    {
     "data": {
      "text/plain": [
       "['I', 'a', 'i', 'e', 'e', 'e', 'i', 'e', 'a', 'i', 'a', 'a', 'a', 'a', 'i']"
      ]
     },
     "execution_count": 3,
     "metadata": {},
     "output_type": "execute_result"
    }
   ],
   "source": [
    "txt=\"I am interested in learning data analytics\"\n",
    "vowel=[i for i in txt if i in 'aeiouAEIOU']\n",
    "vowel"
   ]
  },
  {
   "cell_type": "markdown",
   "id": "40996d05",
   "metadata": {},
   "source": [
    "#### using nested cond in list comprehension"
   ]
  },
  {
   "cell_type": "code",
   "execution_count": 5,
   "id": "43af3d81",
   "metadata": {},
   "outputs": [
    {
     "data": {
      "text/plain": [
       "[10, 15, 20, 20, 20, 20]"
      ]
     },
     "execution_count": 5,
     "metadata": {},
     "output_type": "execute_result"
    }
   ],
   "source": [
    "pro=['chips','lays','bingo','gone mad','munch','dairy milk']\n",
    "discount=[10 if i==\"chips\" else 15 if i==\"lays\" else 20 for i in pro]\n",
    "discount"
   ]
  },
  {
   "cell_type": "markdown",
   "id": "99ec972b",
   "metadata": {},
   "source": [
    "#### to find chars more than len of 5 "
   ]
  },
  {
   "cell_type": "code",
   "execution_count": 16,
   "id": "e61a8ec4",
   "metadata": {},
   "outputs": [
    {
     "name": "stdout",
     "output_type": "stream",
     "text": [
      "['always', 'passion', 'towards', 'learning', 'science', 'analytics']\n"
     ]
    }
   ],
   "source": [
    "def str_len(l,str):\n",
    "    string=[]\n",
    "    text=str.split(\" \")\n",
    "    for i in text:\n",
    "        if len(i)>l:\n",
    "            string.append(i)\n",
    "    return string\n",
    "\n",
    "l=5\n",
    "str=\"I always have passion towards learning data science and data analytics\"\n",
    "print(str_len(l,str))"
   ]
  },
  {
   "cell_type": "markdown",
   "id": "2802e090",
   "metadata": {},
   "source": [
    "#### to find chars more than len of 4 in list comprehension"
   ]
  },
  {
   "cell_type": "code",
   "execution_count": 32,
   "id": "a716b7eb",
   "metadata": {},
   "outputs": [
    {
     "name": "stdout",
     "output_type": "stream",
     "text": [
      "['apple', 'sweetlime']\n"
     ]
    }
   ],
   "source": [
    "List1 = ['apple','sweetlime','kiwi']\n",
    "List2 = []\n",
    "l=4\n",
    "for i in List1:\n",
    "    if(len(i)>l):\n",
    "      List2.append(i[0:])\n",
    "print(List2)"
   ]
  },
  {
   "cell_type": "code",
   "execution_count": null,
   "id": "c7dbdc10",
   "metadata": {},
   "outputs": [],
   "source": []
  }
 ],
 "metadata": {
  "kernelspec": {
   "display_name": "Python 3",
   "language": "python",
   "name": "python3"
  },
  "language_info": {
   "codemirror_mode": {
    "name": "ipython",
    "version": 3
   },
   "file_extension": ".py",
   "mimetype": "text/x-python",
   "name": "python",
   "nbconvert_exporter": "python",
   "pygments_lexer": "ipython3",
   "version": "3.8.8"
  }
 },
 "nbformat": 4,
 "nbformat_minor": 5
}
